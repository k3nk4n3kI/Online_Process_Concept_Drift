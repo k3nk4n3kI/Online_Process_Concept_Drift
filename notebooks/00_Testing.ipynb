{
 "cells": [
  {
   "cell_type": "code",
   "execution_count": 3,
   "metadata": {},
   "outputs": [],
   "source": [
    "import random\n",
    "from river import drift"
   ]
  },
  {
   "cell_type": "code",
   "execution_count": 6,
   "metadata": {},
   "outputs": [
    {
     "name": "stdout",
     "output_type": "stream",
     "text": [
      "[1, 0, 0, 1, 1, 1, 1, 0, 1, 0, 0, 1, 0, 1, 1, 0, 0, 0, 0, 0, 1, 0, 1, 0, 1, 0, 1, 0, 1, 1, 0, 0, 0, 1, 0, 1, 0, 1, 0, 0, 0, 0, 0, 1, 0, 1, 0, 1, 1, 1, 0, 0, 0, 0, 1, 0, 0, 1, 0, 1, 0, 0, 0, 0, 1, 0, 1, 0, 1, 1, 0, 1, 1, 0, 0, 0, 0, 0, 1, 1, 0, 1, 1, 1, 0, 1, 1, 0, 1, 0, 0, 1, 1, 1, 0, 0, 0, 0, 0, 0, 1, 0, 1, 1, 0, 1, 0, 0, 0, 0, 0, 0, 1, 1, 1, 1, 0, 1, 1, 1, 0, 1, 0, 1, 1, 0, 1, 1, 0, 0, 1, 1, 1, 0, 0, 0, 1, 1, 1, 0, 0, 0, 1, 0, 1, 0, 1, 1, 1, 1, 0, 1, 1, 1, 0, 0, 0, 1, 0, 0, 0, 0, 1, 1, 0, 1, 0, 1, 0, 0, 0, 0, 0, 1, 0, 0, 0, 0, 0, 1, 0, 1, 1, 0, 1, 1, 1, 1, 1, 0, 0, 1, 0, 0, 1, 1, 1, 1, 1, 0, 1, 0, 1, 0, 0, 1, 0, 1, 1, 0, 0, 0, 0, 1, 1, 1, 1, 0, 0, 0, 0, 1, 1, 1, 1, 1, 0, 1, 0, 1, 0, 1, 1, 0, 1, 1, 1, 1, 0, 1, 0, 0, 1, 1, 0, 1, 1, 0, 1, 0, 0, 1, 1, 1, 1, 0, 1, 1, 1, 1, 0, 0, 1, 1, 1, 1, 1, 0, 0, 1, 0, 1, 1, 0, 0, 0, 0, 0, 0, 1, 0, 1, 1, 1, 1, 1, 0, 0, 0, 1, 0, 0, 1, 1, 1, 1, 0, 1, 1, 0, 1, 0, 1, 0, 0, 1, 0, 0, 0, 1, 0, 1, 1, 1, 1, 1, 0, 0, 1, 1, 1, 0, 1, 1, 1, 1, 0, 0, 0, 1, 0, 1, 1, 1, 1, 1, 1, 1, 1, 1, 1, 0, 0, 1, 1, 1, 0, 1, 0, 1, 0, 1, 0, 1, 0, 1, 1, 0, 1, 0, 0, 1, 1, 0, 0, 1, 1, 1, 0, 0, 1, 0, 0, 1, 0, 0, 1, 0, 0, 0, 1, 0, 0, 1, 1, 1, 1, 0, 1, 0, 1, 1, 1, 1, 1, 1, 0, 1, 0, 0, 0, 1, 0, 0, 1, 0, 1, 0, 0, 0, 1, 1, 0, 0, 1, 1, 0, 1, 0, 0, 1, 1, 1, 1, 0, 0, 1, 1, 0, 1, 1, 1, 1, 0, 1, 1, 1, 1, 0, 1, 1, 1, 0, 0, 0, 0, 0, 0, 1, 1, 0, 1, 1, 1, 0, 1, 0, 1, 0, 0, 0, 1, 1, 1, 1, 0, 0, 0, 1, 0, 0, 1, 1, 1, 1, 0, 0, 0, 1, 0, 0, 0, 1, 0, 0, 0, 1, 1, 1, 1, 1, 1, 1, 0, 1, 0, 1, 0, 1, 1, 1, 0, 0, 0, 0, 0, 1, 1, 1, 1, 1, 1, 0, 0, 0, 0, 1, 0, 1, 1, 1, 0, 0, 1, 0, 1, 1, 0, 1, 1, 1, 0, 0, 0, 0, 1, 1, 0, 0, 1, 1, 1, 1, 1, 1, 1, 1, 1, 0, 0, 0, 0, 0, 1, 1, 1, 1, 0, 1, 1, 1, 0, 0, 0, 0, 1, 0, 1, 1, 0, 1, 0, 0, 1, 1, 1, 1, 0, 1, 1, 0, 1, 0, 1, 0, 1, 0, 0, 1, 0, 1, 1, 0, 1, 0, 1, 1, 1, 0, 1, 0, 1, 0, 1, 1, 0, 1, 1, 1, 0, 0, 1, 1, 0, 1, 1, 1, 0, 0, 0, 0, 0, 0, 1, 0, 0, 0, 1, 0, 0, 0, 1, 1, 0, 0, 1, 1, 1, 1, 0, 0, 1, 1, 1, 1, 0, 0, 0, 0, 1, 0, 1, 0, 0, 0, 0, 1, 1, 1, 0, 0, 0, 0, 1, 1, 0, 0, 0, 0, 0, 1, 1, 0, 0, 1, 0, 1, 1, 1, 1, 1, 0, 1, 1, 0, 1, 0, 1, 1, 1, 0, 0, 1, 0, 0, 0, 0, 0, 1, 1, 0, 1, 1, 0, 0, 1, 1, 0, 0, 0, 1, 1, 1, 0, 0, 1, 0, 1, 0, 0, 0, 0, 1, 1, 1, 1, 1, 0, 0, 1, 0, 0, 0, 0, 1, 1, 0, 0, 0, 0, 1, 1, 0, 1, 1, 0, 0, 1, 0, 0, 1, 1, 1, 1, 0, 1, 1, 1, 0, 0, 0, 0, 1, 1, 0, 1, 0, 0, 0, 1, 0, 1, 0, 0, 0, 0, 0, 0, 1, 1, 1, 1, 1, 0, 1, 1, 0, 1, 0, 0, 1, 1, 0, 0, 0, 1, 1, 1, 0, 0, 1, 0, 1, 0, 0, 0, 0, 1, 1, 1, 0, 0, 0, 1, 0, 1, 0, 1, 1, 1, 1, 1, 0, 0, 1, 1, 0, 0, 1, 0, 1, 0, 1, 0, 0, 1, 0, 0, 1, 1, 0, 1, 1, 0, 1, 1, 1, 0, 0, 1, 1, 1, 0, 1, 0, 1, 0, 1, 1, 0, 1, 0, 0, 1, 1, 1, 0, 1, 1, 0, 1, 1, 0, 0, 0, 0, 0, 0, 1, 1, 1, 1, 1, 0, 0, 0, 0, 1, 0, 1, 1, 1, 0, 1, 1, 1, 0, 1, 1, 0, 1, 0, 0, 0, 1, 0, 1, 1, 0, 1, 1, 1, 0, 1, 0, 0, 1, 1, 0, 0, 1, 0, 1, 0, 0, 0, 1, 1, 1, 1, 1, 1, 0, 1, 1, 1, 1, 1, 0, 0, 1, 1, 0, 0, 0, 0, 0, 1, 0, 1, 0, 1, 1, 0, 0, 0, 1, 0, 0, 0, 0, 0, 1, 0, 1, 0, 0, 1, 0, 1, 0, 1, 0, 0, 1, 1, 0, 0, 0, 1, 1, 0, 0, 1, 1, 1, 0, 1, 0, 0, 1, 1, 1, 0, 0, 1, 1, 0, 0, 1, 4, 6, 5, 5, 5, 4, 7, 6, 5, 4, 5, 4, 7, 5, 4, 4, 5, 5, 7, 6, 5, 7, 6, 4, 5, 5, 4, 7, 5, 5, 4, 4, 7, 7, 5, 5, 5, 5, 4, 5, 6, 4, 4, 6, 4, 6, 4, 4, 6, 4, 7, 7, 6, 5, 4, 5, 4, 7, 5, 5, 5, 6, 4, 6, 7, 7, 4, 7, 6, 4, 7, 4, 5, 4, 7, 4, 4, 7, 7, 7, 4, 7, 5, 5, 6, 5, 4, 5, 6, 7, 5, 4, 4, 7, 6, 4, 4, 5, 6, 6, 7, 6, 7, 7, 6, 5, 5, 5, 6, 6, 6, 4, 6, 5, 5, 7, 7, 6, 7, 5, 6, 7, 4, 4, 6, 4, 7, 6, 6, 5, 4, 7, 7, 5, 4, 7, 5, 5, 6, 5, 4, 5, 6, 6, 5, 7, 7, 7, 7, 4, 6, 7, 7, 4, 7, 6, 6, 7, 4, 7, 6, 7, 5, 7, 6, 4, 4, 5, 5, 4, 6, 6, 7, 5, 5, 7, 5, 4, 5, 4, 5, 6, 6, 5, 7, 6, 6, 5, 6, 4, 7, 7, 6, 4, 6, 7, 7, 7, 7, 5, 6, 6, 4, 7, 5, 6, 7, 5, 7, 4, 5, 7, 7, 7, 5, 6, 7, 6, 6, 5, 6, 4, 4, 7, 5, 7, 7, 6, 7, 6, 7, 4, 5, 7, 4, 5, 7, 6, 4, 4, 7, 6, 5, 6, 4, 6, 7, 5, 5, 5, 4, 6, 6, 6, 6, 5, 5, 4, 5, 6, 4, 7, 4, 5, 7, 4, 5, 6, 7, 7, 5, 4, 6, 7, 4, 7, 5, 7, 6, 4, 6, 6, 4, 6, 4, 7, 4, 6, 7, 4, 4, 4, 4, 5, 6, 5, 5, 7, 4, 5, 5, 5, 6, 7, 4, 5, 5, 4, 5, 6, 5, 7, 7, 6, 6, 4, 7, 5, 5, 6, 6, 6, 4, 4, 4, 7, 7, 4, 5, 7, 5, 5, 6, 5, 4, 7, 7, 6, 7, 5, 6, 6, 4, 6, 5, 7, 7, 4, 6, 4, 7, 6, 6, 5, 7, 7, 4, 5, 7, 5, 4, 4, 6, 4, 6, 5, 5, 4, 4, 5, 5, 6, 5, 6, 5, 6, 5, 4, 7, 7, 6, 4, 4, 7, 7, 6, 4, 5, 4, 7, 5, 7, 5, 5, 5, 7, 6, 7, 4, 4, 6, 6, 5, 5, 4, 4, 7, 6, 4, 7, 5, 5, 5, 6, 4, 5, 7, 6, 7, 7, 6, 4, 6, 5, 5, 5, 7, 7, 5, 7, 4, 4, 4, 6, 7, 4, 7, 5, 4, 5, 7, 4, 7, 6, 7, 7, 7, 5, 5, 6, 6, 6, 4, 6, 4, 4, 6, 5, 4, 6, 7, 4, 6, 5, 6, 7, 7, 6, 5, 5, 7, 4, 6, 6, 4, 6, 5, 7, 7, 5, 6, 6, 6, 6, 6, 7, 7, 7, 6, 4, 5, 4, 5, 6, 4, 4, 7, 5, 4, 7, 5, 4, 4, 4, 4, 5, 7, 4, 5, 4, 7, 7, 4, 6, 5, 7, 7, 7, 5, 5, 6, 6, 4, 5, 6, 4, 6, 5, 6, 5, 5, 4, 6, 7, 5, 6, 5, 6, 6, 5, 6, 5, 5, 6, 4, 5, 4, 4, 6, 4, 7, 7, 7, 6, 7, 4, 7, 4, 4, 7, 5, 7, 7, 7, 7, 6, 4, 6, 5, 7, 5, 4, 7, 5, 4, 6, 5, 5, 5, 5, 7, 4, 7, 7, 6, 7, 7, 4, 6, 4, 6, 6, 4, 5, 6, 5, 4, 7, 5, 7, 4, 6, 7, 6, 5, 4, 5, 4, 7, 4, 5, 5, 4, 7, 6, 7, 7, 5, 6, 7, 6, 6, 5, 7, 4, 5, 5, 4, 6, 4, 6, 7, 6, 7, 4, 6, 5, 7, 6, 5, 5, 7, 7, 6, 7, 7, 5, 7, 4, 6, 7, 5, 5, 6, 5, 7, 7, 7, 7, 5, 6, 7, 7, 5, 5, 7, 4, 7, 4, 6, 4, 7, 5, 7, 6, 7, 6, 6, 7, 5, 5, 4, 6, 4, 5, 7, 6, 7, 7, 7, 6, 5, 4, 4, 6, 7, 7, 7, 6, 6, 4, 5, 6, 5, 4, 4, 4, 7, 5, 6, 6, 6, 7, 5, 7, 4, 6, 6, 5, 6, 6, 6, 7, 6, 4, 4, 4, 4, 5, 6, 7, 4, 6, 7, 6, 6, 7, 4, 6, 7, 6, 5, 6, 7, 4, 5, 7, 4, 6, 7, 7, 6, 6, 5, 4, 6, 4, 7, 7, 7, 7, 5, 6, 6, 6, 4, 4, 4, 5, 6, 5, 4, 7, 4, 5, 5, 4, 5, 6, 6, 7, 4, 4, 5, 6, 6, 7, 4, 6, 7, 5, 5, 7, 5, 5, 5, 6, 4, 6, 7, 4, 6, 5, 7, 7, 7, 7, 6, 4, 5, 5, 6, 4, 7, 7, 7, 6, 7, 6, 5, 4, 7, 4, 7, 7, 6, 5, 6, 5, 4, 5, 5, 5, 6, 4, 5, 5, 5, 6, 5, 6, 7, 7, 5, 5, 6, 5, 5, 5, 6, 4, 6, 7, 5, 4, 4, 4, 7, 6, 4, 7, 5, 4, 7, 4, 7, 5, 7, 7, 6, 7, 7, 6, 4, 6, 4, 4, 5, 7, 7, 5, 6, 7, 6, 7, 5, 6, 5, 5, 5, 5, 4, 7, 5, 4, 4, 7, 4, 7, 7, 5, 4, 6, 7, 6, 7, 6, 5, 4, 5, 5, 4, 4, 7, 4, 7, 7, 7, 7, 4, 4, 5, 7, 5, 5, 6, 5, 6, 7, 4, 6, 7, 6, 7, 5, 7, 6, 7, 4, 4, 4, 5, 5, 4, 7, 6, 4, 4, 5, 4, 5, 6, 4, 5, 4, 7, 7, 7, 6, 5, 7, 6, 6, 7, 4, 6, 7, 5, 6, 4, 7, 6, 5, 7, 6, 6, 6, 6, 6, 7, 6, 6, 5, 7, 7, 7, 5, 7, 4, 4, 5, 5, 7, 5, 7, 7, 4, 5, 6, 5]\n"
     ]
    }
   ],
   "source": [
    "rng = random.Random(1234)\n",
    "adwin = drift.ADWIN()\n",
    "\n",
    "data_stream = rng.choices([0, 1], k=1000) + rng.choices(range(4, 8), k=1000)\n",
    "\n",
    "print(data_stream)"
   ]
  },
  {
   "cell_type": "code",
   "execution_count": 7,
   "metadata": {},
   "outputs": [
    {
     "name": "stdout",
     "output_type": "stream",
     "text": [
      "Change detected at index 1023, input value: 4\n"
     ]
    }
   ],
   "source": [
    "for i, val in enumerate(data_stream):\n",
    "    adwin.update(val)\n",
    "    if adwin.drift_detected:\n",
    "        print(f\"Change detected at index {i}, input value: {val}\")"
   ]
  },
  {
   "cell_type": "code",
   "execution_count": 4,
   "metadata": {},
   "outputs": [
    {
     "data": {
      "text/plain": [
       "[6, 6, 7, 4, 6]"
      ]
     },
     "execution_count": 4,
     "metadata": {},
     "output_type": "execute_result"
    }
   ],
   "source": [
    "data_stream[1020:1025]"
   ]
  },
  {
   "cell_type": "code",
   "execution_count": 1,
   "metadata": {},
   "outputs": [
    {
     "ename": "AttributeError",
     "evalue": "module 'numpy' has no attribute 'float'.\n`np.float` was a deprecated alias for the builtin `float`. To avoid this error in existing code, use `float` by itself. Doing this will not modify any behavior and is safe. If you specifically wanted the numpy scalar type, use `np.float64` here.\nThe aliases was originally deprecated in NumPy 1.20; for more details and guidance see the original release note at:\n    https://numpy.org/devdocs/release/1.20.0-notes.html#deprecations",
     "output_type": "error",
     "traceback": [
      "\u001b[0;31m---------------------------------------------------------------------------\u001b[0m",
      "\u001b[0;31mAttributeError\u001b[0m                            Traceback (most recent call last)",
      "Cell \u001b[0;32mIn[1], line 3\u001b[0m\n\u001b[1;32m      1\u001b[0m \u001b[38;5;28;01mimport\u001b[39;00m \u001b[38;5;21;01mnumpy\u001b[39;00m \u001b[38;5;28;01mas\u001b[39;00m \u001b[38;5;21;01mnp\u001b[39;00m\n\u001b[0;32m----> 3\u001b[0m \u001b[38;5;28;01mfrom\u001b[39;00m \u001b[38;5;21;01mskmultiflow\u001b[39;00m\u001b[38;5;21;01m.\u001b[39;00m\u001b[38;5;21;01mdrift_detection\u001b[39;00m\u001b[38;5;21;01m.\u001b[39;00m\u001b[38;5;21;01madwin\u001b[39;00m \u001b[38;5;28;01mimport\u001b[39;00m ADWIN\n",
      "File \u001b[0;32m~/Documents/test/venv/lib/python3.10/site-packages/skmultiflow/__init__.py:8\u001b[0m\n\u001b[1;32m      6\u001b[0m \u001b[38;5;28;01mfrom\u001b[39;00m \u001b[38;5;21;01m.\u001b[39;00m \u001b[38;5;28;01mimport\u001b[39;00m data\n\u001b[1;32m      7\u001b[0m \u001b[38;5;28;01mfrom\u001b[39;00m \u001b[38;5;21;01m.\u001b[39;00m \u001b[38;5;28;01mimport\u001b[39;00m drift_detection\n\u001b[0;32m----> 8\u001b[0m \u001b[38;5;28;01mfrom\u001b[39;00m \u001b[38;5;21;01m.\u001b[39;00m \u001b[38;5;28;01mimport\u001b[39;00m evaluation\n\u001b[1;32m      9\u001b[0m \u001b[38;5;28;01mfrom\u001b[39;00m \u001b[38;5;21;01m.\u001b[39;00m \u001b[38;5;28;01mimport\u001b[39;00m lazy\n\u001b[1;32m     10\u001b[0m \u001b[38;5;28;01mfrom\u001b[39;00m \u001b[38;5;21;01m.\u001b[39;00m \u001b[38;5;28;01mimport\u001b[39;00m meta\n",
      "File \u001b[0;32m~/Documents/test/venv/lib/python3.10/site-packages/skmultiflow/evaluation/__init__.py:5\u001b[0m\n\u001b[1;32m      1\u001b[0m \u001b[38;5;124;03m\"\"\"\u001b[39;00m\n\u001b[1;32m      2\u001b[0m \u001b[38;5;124;03mThe :mod:`skmultiflow.evaluation` module includes evaluation methods for stream learning.\u001b[39;00m\n\u001b[1;32m      3\u001b[0m \u001b[38;5;124;03m\"\"\"\u001b[39;00m\n\u001b[0;32m----> 5\u001b[0m \u001b[38;5;28;01mfrom\u001b[39;00m \u001b[38;5;21;01m.\u001b[39;00m\u001b[38;5;21;01mevaluate_prequential\u001b[39;00m \u001b[38;5;28;01mimport\u001b[39;00m EvaluatePrequential\n\u001b[1;32m      6\u001b[0m \u001b[38;5;28;01mfrom\u001b[39;00m \u001b[38;5;21;01m.\u001b[39;00m\u001b[38;5;21;01mevaluate_prequential_delayed\u001b[39;00m \u001b[38;5;28;01mimport\u001b[39;00m EvaluatePrequentialDelayed\n\u001b[1;32m      7\u001b[0m \u001b[38;5;28;01mfrom\u001b[39;00m \u001b[38;5;21;01m.\u001b[39;00m\u001b[38;5;21;01mevaluate_holdout\u001b[39;00m \u001b[38;5;28;01mimport\u001b[39;00m EvaluateHoldout\n",
      "File \u001b[0;32m~/Documents/test/venv/lib/python3.10/site-packages/skmultiflow/evaluation/evaluate_prequential.py:8\u001b[0m\n\u001b[1;32m      4\u001b[0m \u001b[38;5;28;01mfrom\u001b[39;00m \u001b[38;5;21;01mtimeit\u001b[39;00m \u001b[38;5;28;01mimport\u001b[39;00m default_timer \u001b[38;5;28;01mas\u001b[39;00m timer\n\u001b[1;32m      6\u001b[0m \u001b[38;5;28;01mfrom\u001b[39;00m \u001b[38;5;21;01mnumpy\u001b[39;00m \u001b[38;5;28;01mimport\u001b[39;00m unique\n\u001b[0;32m----> 8\u001b[0m \u001b[38;5;28;01mfrom\u001b[39;00m \u001b[38;5;21;01mskmultiflow\u001b[39;00m\u001b[38;5;21;01m.\u001b[39;00m\u001b[38;5;21;01mevaluation\u001b[39;00m\u001b[38;5;21;01m.\u001b[39;00m\u001b[38;5;21;01mbase_evaluator\u001b[39;00m \u001b[38;5;28;01mimport\u001b[39;00m StreamEvaluator\n\u001b[1;32m      9\u001b[0m \u001b[38;5;28;01mfrom\u001b[39;00m \u001b[38;5;21;01mskmultiflow\u001b[39;00m\u001b[38;5;21;01m.\u001b[39;00m\u001b[38;5;21;01mutils\u001b[39;00m \u001b[38;5;28;01mimport\u001b[39;00m constants\n\u001b[1;32m     12\u001b[0m \u001b[38;5;28;01mclass\u001b[39;00m \u001b[38;5;21;01mEvaluatePrequential\u001b[39;00m(StreamEvaluator):\n",
      "File \u001b[0;32m~/Documents/test/venv/lib/python3.10/site-packages/skmultiflow/evaluation/base_evaluator.py:10\u001b[0m\n\u001b[1;32m      8\u001b[0m \u001b[38;5;28;01mfrom\u001b[39;00m \u001b[38;5;21;01m.\u001b[39;00m\u001b[38;5;21;01mevaluation_data_buffer\u001b[39;00m \u001b[38;5;28;01mimport\u001b[39;00m EvaluationDataBuffer\n\u001b[1;32m      9\u001b[0m \u001b[38;5;28;01mfrom\u001b[39;00m \u001b[38;5;21;01mskmultiflow\u001b[39;00m\u001b[38;5;21;01m.\u001b[39;00m\u001b[38;5;21;01mvisualization\u001b[39;00m\u001b[38;5;21;01m.\u001b[39;00m\u001b[38;5;21;01mevaluation_visualizer\u001b[39;00m \u001b[38;5;28;01mimport\u001b[39;00m EvaluationVisualizer\n\u001b[0;32m---> 10\u001b[0m \u001b[38;5;28;01mfrom\u001b[39;00m \u001b[38;5;21;01mskmultiflow\u001b[39;00m\u001b[38;5;21;01m.\u001b[39;00m\u001b[38;5;21;01mmetrics\u001b[39;00m \u001b[38;5;28;01mimport\u001b[39;00m ClassificationPerformanceEvaluator, WindowClassificationPerformanceEvaluator, \\\n\u001b[1;32m     11\u001b[0m     MultiLabelClassificationPerformanceEvaluator, WindowMultiLabelClassificationPerformanceEvaluator,\\\n\u001b[1;32m     12\u001b[0m     RegressionMeasurements, WindowRegressionMeasurements,\\\n\u001b[1;32m     13\u001b[0m     MultiTargetRegressionMeasurements, WindowMultiTargetRegressionMeasurements,\\\n\u001b[1;32m     14\u001b[0m     RunningTimeMeasurements\n\u001b[1;32m     15\u001b[0m \u001b[38;5;28;01mimport\u001b[39;00m \u001b[38;5;21;01mskmultiflow\u001b[39;00m\u001b[38;5;21;01m.\u001b[39;00m\u001b[38;5;21;01mutils\u001b[39;00m\u001b[38;5;21;01m.\u001b[39;00m\u001b[38;5;21;01mconstants\u001b[39;00m \u001b[38;5;28;01mas\u001b[39;00m \u001b[38;5;21;01mconstants\u001b[39;00m\n\u001b[1;32m     16\u001b[0m \u001b[38;5;28;01mfrom\u001b[39;00m \u001b[38;5;21;01mskmultiflow\u001b[39;00m\u001b[38;5;21;01m.\u001b[39;00m\u001b[38;5;21;01mutils\u001b[39;00m \u001b[38;5;28;01mimport\u001b[39;00m calculate_object_size\n",
      "File \u001b[0;32m~/Documents/test/venv/lib/python3.10/site-packages/skmultiflow/metrics/__init__.py:5\u001b[0m\n\u001b[1;32m      1\u001b[0m \u001b[38;5;124;03m\"\"\"\u001b[39;00m\n\u001b[1;32m      2\u001b[0m \u001b[38;5;124;03mThe :mod:`skmultiflow.metrics` module includes performance metrics.\u001b[39;00m\n\u001b[1;32m      3\u001b[0m \u001b[38;5;124;03m\"\"\"\u001b[39;00m\n\u001b[0;32m----> 5\u001b[0m \u001b[38;5;28;01mfrom\u001b[39;00m \u001b[38;5;21;01m.\u001b[39;00m\u001b[38;5;21;01m_classification_performance_evaluator\u001b[39;00m \u001b[38;5;28;01mimport\u001b[39;00m ClassificationPerformanceEvaluator\n\u001b[1;32m      6\u001b[0m \u001b[38;5;28;01mfrom\u001b[39;00m \u001b[38;5;21;01m.\u001b[39;00m\u001b[38;5;21;01m_classification_performance_evaluator\u001b[39;00m \u001b[38;5;28;01mimport\u001b[39;00m WindowClassificationPerformanceEvaluator\n\u001b[1;32m      7\u001b[0m \u001b[38;5;28;01mfrom\u001b[39;00m \u001b[38;5;21;01m.\u001b[39;00m\u001b[38;5;21;01m_classification_performance_evaluator\u001b[39;00m \u001b[38;5;28;01mimport\u001b[39;00m MultiLabelClassificationPerformanceEvaluator\n",
      "File \u001b[0;32msrc/skmultiflow/metrics/_classification_performance_evaluator.pyx:11\u001b[0m, in \u001b[0;36minit skmultiflow.metrics._classification_performance_evaluator\u001b[0;34m()\u001b[0m\n",
      "File \u001b[0;32m~/Documents/test/venv/lib/python3.10/site-packages/numpy/__init__.py:324\u001b[0m, in \u001b[0;36m__getattr__\u001b[0;34m(attr)\u001b[0m\n\u001b[1;32m    319\u001b[0m     warnings\u001b[38;5;241m.\u001b[39mwarn(\n\u001b[1;32m    320\u001b[0m         \u001b[38;5;124mf\u001b[39m\u001b[38;5;124m\"\u001b[39m\u001b[38;5;124mIn the future `np.\u001b[39m\u001b[38;5;132;01m{\u001b[39;00mattr\u001b[38;5;132;01m}\u001b[39;00m\u001b[38;5;124m` will be defined as the \u001b[39m\u001b[38;5;124m\"\u001b[39m\n\u001b[1;32m    321\u001b[0m         \u001b[38;5;124m\"\u001b[39m\u001b[38;5;124mcorresponding NumPy scalar.\u001b[39m\u001b[38;5;124m\"\u001b[39m, \u001b[38;5;167;01mFutureWarning\u001b[39;00m, stacklevel\u001b[38;5;241m=\u001b[39m\u001b[38;5;241m2\u001b[39m)\n\u001b[1;32m    323\u001b[0m \u001b[38;5;28;01mif\u001b[39;00m attr \u001b[38;5;129;01min\u001b[39;00m __former_attrs__:\n\u001b[0;32m--> 324\u001b[0m     \u001b[38;5;28;01mraise\u001b[39;00m \u001b[38;5;167;01mAttributeError\u001b[39;00m(__former_attrs__[attr])\n\u001b[1;32m    326\u001b[0m \u001b[38;5;28;01mif\u001b[39;00m attr \u001b[38;5;241m==\u001b[39m \u001b[38;5;124m'\u001b[39m\u001b[38;5;124mtesting\u001b[39m\u001b[38;5;124m'\u001b[39m:\n\u001b[1;32m    327\u001b[0m     \u001b[38;5;28;01mimport\u001b[39;00m \u001b[38;5;21;01mnumpy\u001b[39;00m\u001b[38;5;21;01m.\u001b[39;00m\u001b[38;5;21;01mtesting\u001b[39;00m \u001b[38;5;28;01mas\u001b[39;00m \u001b[38;5;21;01mtesting\u001b[39;00m\n",
      "\u001b[0;31mAttributeError\u001b[0m: module 'numpy' has no attribute 'float'.\n`np.float` was a deprecated alias for the builtin `float`. To avoid this error in existing code, use `float` by itself. Doing this will not modify any behavior and is safe. If you specifically wanted the numpy scalar type, use `np.float64` here.\nThe aliases was originally deprecated in NumPy 1.20; for more details and guidance see the original release note at:\n    https://numpy.org/devdocs/release/1.20.0-notes.html#deprecations"
     ]
    }
   ],
   "source": [
    "import numpy as np\n",
    "\n",
    "from skmultiflow.drift_detection.adwin import ADWIN"
   ]
  },
  {
   "cell_type": "code",
   "execution_count": 1,
   "metadata": {},
   "outputs": [
    {
     "ename": "AttributeError",
     "evalue": "module 'numpy' has no attribute 'float'.\n`np.float` was a deprecated alias for the builtin `float`. To avoid this error in existing code, use `float` by itself. Doing this will not modify any behavior and is safe. If you specifically wanted the numpy scalar type, use `np.float64` here.\nThe aliases was originally deprecated in NumPy 1.20; for more details and guidance see the original release note at:\n    https://numpy.org/devdocs/release/1.20.0-notes.html#deprecations",
     "output_type": "error",
     "traceback": [
      "\u001b[0;31m---------------------------------------------------------------------------\u001b[0m",
      "\u001b[0;31mAttributeError\u001b[0m                            Traceback (most recent call last)",
      "Cell \u001b[0;32mIn[1], line 3\u001b[0m\n\u001b[1;32m      1\u001b[0m \u001b[38;5;28;01mimport\u001b[39;00m \u001b[38;5;21;01mnumpy\u001b[39;00m \u001b[38;5;28;01mas\u001b[39;00m \u001b[38;5;21;01mnp\u001b[39;00m\n\u001b[0;32m----> 3\u001b[0m \u001b[38;5;28;01mfrom\u001b[39;00m \u001b[38;5;21;01mskmultiflow\u001b[39;00m\u001b[38;5;21;01m.\u001b[39;00m\u001b[38;5;21;01mdrift_detection\u001b[39;00m\u001b[38;5;21;01m.\u001b[39;00m\u001b[38;5;21;01madwin\u001b[39;00m \u001b[38;5;28;01mimport\u001b[39;00m ADWIN\n\u001b[1;32m      5\u001b[0m adwin \u001b[38;5;241m=\u001b[39m ADWIN(delta\u001b[38;5;241m=\u001b[39m\u001b[38;5;241m0.0002\u001b[39m)\n\u001b[1;32m      6\u001b[0m SEED \u001b[38;5;241m=\u001b[39m np\u001b[38;5;241m.\u001b[39mrandom\u001b[38;5;241m.\u001b[39mseed(\u001b[38;5;241m42\u001b[39m)\n",
      "File \u001b[0;32m~/Documents/test/venv/lib/python3.10/site-packages/skmultiflow/__init__.py:8\u001b[0m\n\u001b[1;32m      6\u001b[0m \u001b[38;5;28;01mfrom\u001b[39;00m \u001b[38;5;21;01m.\u001b[39;00m \u001b[38;5;28;01mimport\u001b[39;00m data\n\u001b[1;32m      7\u001b[0m \u001b[38;5;28;01mfrom\u001b[39;00m \u001b[38;5;21;01m.\u001b[39;00m \u001b[38;5;28;01mimport\u001b[39;00m drift_detection\n\u001b[0;32m----> 8\u001b[0m \u001b[38;5;28;01mfrom\u001b[39;00m \u001b[38;5;21;01m.\u001b[39;00m \u001b[38;5;28;01mimport\u001b[39;00m evaluation\n\u001b[1;32m      9\u001b[0m \u001b[38;5;28;01mfrom\u001b[39;00m \u001b[38;5;21;01m.\u001b[39;00m \u001b[38;5;28;01mimport\u001b[39;00m lazy\n\u001b[1;32m     10\u001b[0m \u001b[38;5;28;01mfrom\u001b[39;00m \u001b[38;5;21;01m.\u001b[39;00m \u001b[38;5;28;01mimport\u001b[39;00m meta\n",
      "File \u001b[0;32m~/Documents/test/venv/lib/python3.10/site-packages/skmultiflow/evaluation/__init__.py:5\u001b[0m\n\u001b[1;32m      1\u001b[0m \u001b[38;5;124;03m\"\"\"\u001b[39;00m\n\u001b[1;32m      2\u001b[0m \u001b[38;5;124;03mThe :mod:`skmultiflow.evaluation` module includes evaluation methods for stream learning.\u001b[39;00m\n\u001b[1;32m      3\u001b[0m \u001b[38;5;124;03m\"\"\"\u001b[39;00m\n\u001b[0;32m----> 5\u001b[0m \u001b[38;5;28;01mfrom\u001b[39;00m \u001b[38;5;21;01m.\u001b[39;00m\u001b[38;5;21;01mevaluate_prequential\u001b[39;00m \u001b[38;5;28;01mimport\u001b[39;00m EvaluatePrequential\n\u001b[1;32m      6\u001b[0m \u001b[38;5;28;01mfrom\u001b[39;00m \u001b[38;5;21;01m.\u001b[39;00m\u001b[38;5;21;01mevaluate_prequential_delayed\u001b[39;00m \u001b[38;5;28;01mimport\u001b[39;00m EvaluatePrequentialDelayed\n\u001b[1;32m      7\u001b[0m \u001b[38;5;28;01mfrom\u001b[39;00m \u001b[38;5;21;01m.\u001b[39;00m\u001b[38;5;21;01mevaluate_holdout\u001b[39;00m \u001b[38;5;28;01mimport\u001b[39;00m EvaluateHoldout\n",
      "File \u001b[0;32m~/Documents/test/venv/lib/python3.10/site-packages/skmultiflow/evaluation/evaluate_prequential.py:8\u001b[0m\n\u001b[1;32m      4\u001b[0m \u001b[38;5;28;01mfrom\u001b[39;00m \u001b[38;5;21;01mtimeit\u001b[39;00m \u001b[38;5;28;01mimport\u001b[39;00m default_timer \u001b[38;5;28;01mas\u001b[39;00m timer\n\u001b[1;32m      6\u001b[0m \u001b[38;5;28;01mfrom\u001b[39;00m \u001b[38;5;21;01mnumpy\u001b[39;00m \u001b[38;5;28;01mimport\u001b[39;00m unique\n\u001b[0;32m----> 8\u001b[0m \u001b[38;5;28;01mfrom\u001b[39;00m \u001b[38;5;21;01mskmultiflow\u001b[39;00m\u001b[38;5;21;01m.\u001b[39;00m\u001b[38;5;21;01mevaluation\u001b[39;00m\u001b[38;5;21;01m.\u001b[39;00m\u001b[38;5;21;01mbase_evaluator\u001b[39;00m \u001b[38;5;28;01mimport\u001b[39;00m StreamEvaluator\n\u001b[1;32m      9\u001b[0m \u001b[38;5;28;01mfrom\u001b[39;00m \u001b[38;5;21;01mskmultiflow\u001b[39;00m\u001b[38;5;21;01m.\u001b[39;00m\u001b[38;5;21;01mutils\u001b[39;00m \u001b[38;5;28;01mimport\u001b[39;00m constants\n\u001b[1;32m     12\u001b[0m \u001b[38;5;28;01mclass\u001b[39;00m \u001b[38;5;21;01mEvaluatePrequential\u001b[39;00m(StreamEvaluator):\n",
      "File \u001b[0;32m~/Documents/test/venv/lib/python3.10/site-packages/skmultiflow/evaluation/base_evaluator.py:10\u001b[0m\n\u001b[1;32m      8\u001b[0m \u001b[38;5;28;01mfrom\u001b[39;00m \u001b[38;5;21;01m.\u001b[39;00m\u001b[38;5;21;01mevaluation_data_buffer\u001b[39;00m \u001b[38;5;28;01mimport\u001b[39;00m EvaluationDataBuffer\n\u001b[1;32m      9\u001b[0m \u001b[38;5;28;01mfrom\u001b[39;00m \u001b[38;5;21;01mskmultiflow\u001b[39;00m\u001b[38;5;21;01m.\u001b[39;00m\u001b[38;5;21;01mvisualization\u001b[39;00m\u001b[38;5;21;01m.\u001b[39;00m\u001b[38;5;21;01mevaluation_visualizer\u001b[39;00m \u001b[38;5;28;01mimport\u001b[39;00m EvaluationVisualizer\n\u001b[0;32m---> 10\u001b[0m \u001b[38;5;28;01mfrom\u001b[39;00m \u001b[38;5;21;01mskmultiflow\u001b[39;00m\u001b[38;5;21;01m.\u001b[39;00m\u001b[38;5;21;01mmetrics\u001b[39;00m \u001b[38;5;28;01mimport\u001b[39;00m ClassificationPerformanceEvaluator, WindowClassificationPerformanceEvaluator, \\\n\u001b[1;32m     11\u001b[0m     MultiLabelClassificationPerformanceEvaluator, WindowMultiLabelClassificationPerformanceEvaluator,\\\n\u001b[1;32m     12\u001b[0m     RegressionMeasurements, WindowRegressionMeasurements,\\\n\u001b[1;32m     13\u001b[0m     MultiTargetRegressionMeasurements, WindowMultiTargetRegressionMeasurements,\\\n\u001b[1;32m     14\u001b[0m     RunningTimeMeasurements\n\u001b[1;32m     15\u001b[0m \u001b[38;5;28;01mimport\u001b[39;00m \u001b[38;5;21;01mskmultiflow\u001b[39;00m\u001b[38;5;21;01m.\u001b[39;00m\u001b[38;5;21;01mutils\u001b[39;00m\u001b[38;5;21;01m.\u001b[39;00m\u001b[38;5;21;01mconstants\u001b[39;00m \u001b[38;5;28;01mas\u001b[39;00m \u001b[38;5;21;01mconstants\u001b[39;00m\n\u001b[1;32m     16\u001b[0m \u001b[38;5;28;01mfrom\u001b[39;00m \u001b[38;5;21;01mskmultiflow\u001b[39;00m\u001b[38;5;21;01m.\u001b[39;00m\u001b[38;5;21;01mutils\u001b[39;00m \u001b[38;5;28;01mimport\u001b[39;00m calculate_object_size\n",
      "File \u001b[0;32m~/Documents/test/venv/lib/python3.10/site-packages/skmultiflow/metrics/__init__.py:5\u001b[0m\n\u001b[1;32m      1\u001b[0m \u001b[38;5;124;03m\"\"\"\u001b[39;00m\n\u001b[1;32m      2\u001b[0m \u001b[38;5;124;03mThe :mod:`skmultiflow.metrics` module includes performance metrics.\u001b[39;00m\n\u001b[1;32m      3\u001b[0m \u001b[38;5;124;03m\"\"\"\u001b[39;00m\n\u001b[0;32m----> 5\u001b[0m \u001b[38;5;28;01mfrom\u001b[39;00m \u001b[38;5;21;01m.\u001b[39;00m\u001b[38;5;21;01m_classification_performance_evaluator\u001b[39;00m \u001b[38;5;28;01mimport\u001b[39;00m ClassificationPerformanceEvaluator\n\u001b[1;32m      6\u001b[0m \u001b[38;5;28;01mfrom\u001b[39;00m \u001b[38;5;21;01m.\u001b[39;00m\u001b[38;5;21;01m_classification_performance_evaluator\u001b[39;00m \u001b[38;5;28;01mimport\u001b[39;00m WindowClassificationPerformanceEvaluator\n\u001b[1;32m      7\u001b[0m \u001b[38;5;28;01mfrom\u001b[39;00m \u001b[38;5;21;01m.\u001b[39;00m\u001b[38;5;21;01m_classification_performance_evaluator\u001b[39;00m \u001b[38;5;28;01mimport\u001b[39;00m MultiLabelClassificationPerformanceEvaluator\n",
      "File \u001b[0;32msrc/skmultiflow/metrics/_classification_performance_evaluator.pyx:11\u001b[0m, in \u001b[0;36minit skmultiflow.metrics._classification_performance_evaluator\u001b[0;34m()\u001b[0m\n",
      "File \u001b[0;32m~/Documents/test/venv/lib/python3.10/site-packages/numpy/__init__.py:324\u001b[0m, in \u001b[0;36m__getattr__\u001b[0;34m(attr)\u001b[0m\n\u001b[1;32m    319\u001b[0m     warnings\u001b[38;5;241m.\u001b[39mwarn(\n\u001b[1;32m    320\u001b[0m         \u001b[38;5;124mf\u001b[39m\u001b[38;5;124m\"\u001b[39m\u001b[38;5;124mIn the future `np.\u001b[39m\u001b[38;5;132;01m{\u001b[39;00mattr\u001b[38;5;132;01m}\u001b[39;00m\u001b[38;5;124m` will be defined as the \u001b[39m\u001b[38;5;124m\"\u001b[39m\n\u001b[1;32m    321\u001b[0m         \u001b[38;5;124m\"\u001b[39m\u001b[38;5;124mcorresponding NumPy scalar.\u001b[39m\u001b[38;5;124m\"\u001b[39m, \u001b[38;5;167;01mFutureWarning\u001b[39;00m, stacklevel\u001b[38;5;241m=\u001b[39m\u001b[38;5;241m2\u001b[39m)\n\u001b[1;32m    323\u001b[0m \u001b[38;5;28;01mif\u001b[39;00m attr \u001b[38;5;129;01min\u001b[39;00m __former_attrs__:\n\u001b[0;32m--> 324\u001b[0m     \u001b[38;5;28;01mraise\u001b[39;00m \u001b[38;5;167;01mAttributeError\u001b[39;00m(__former_attrs__[attr])\n\u001b[1;32m    326\u001b[0m \u001b[38;5;28;01mif\u001b[39;00m attr \u001b[38;5;241m==\u001b[39m \u001b[38;5;124m'\u001b[39m\u001b[38;5;124mtesting\u001b[39m\u001b[38;5;124m'\u001b[39m:\n\u001b[1;32m    327\u001b[0m     \u001b[38;5;28;01mimport\u001b[39;00m \u001b[38;5;21;01mnumpy\u001b[39;00m\u001b[38;5;21;01m.\u001b[39;00m\u001b[38;5;21;01mtesting\u001b[39;00m \u001b[38;5;28;01mas\u001b[39;00m \u001b[38;5;21;01mtesting\u001b[39;00m\n",
      "\u001b[0;31mAttributeError\u001b[0m: module 'numpy' has no attribute 'float'.\n`np.float` was a deprecated alias for the builtin `float`. To avoid this error in existing code, use `float` by itself. Doing this will not modify any behavior and is safe. If you specifically wanted the numpy scalar type, use `np.float64` here.\nThe aliases was originally deprecated in NumPy 1.20; for more details and guidance see the original release note at:\n    https://numpy.org/devdocs/release/1.20.0-notes.html#deprecations"
     ]
    }
   ],
   "source": [
    "adwin = ADWIN(delta=0.0002)\n",
    "SEED = np.random.seed(42)\n",
    "\n",
    "# Simulating a data stream as a normal distribution of 1's and 0's\n",
    "mu, sigma = 0, 0.25  # mean and standard deviation\n",
    "data_stream = np.random.normal(mu, sigma, 4000)\n",
    "\n",
    "# Changing the data concept from index 1000 to 2000\n",
    "mu_broken, sigma_broken = 1, 0.5\n",
    "data_stream[1000:2000] = np.random.normal(mu_broken, sigma_broken, 1000)\n",
    "\n",
    "width_vs_variance = []\n",
    "\n",
    "# Adding stream elements to ADWIN and verifying if drift occurred\n",
    "for idx in range(4000):\n",
    "\n",
    "    adwin.add_element(data_stream[idx])\n",
    "\n",
    "    if adwin.detected_change():\n",
    "        print(f\"Change in index {idx} for stream value {data_stream[idx]}\")\n",
    "\n",
    "    width_vs_variance.append((adwin.width, adwin.variance, idx))"
   ]
  },
  {
   "cell_type": "code",
   "execution_count": null,
   "metadata": {},
   "outputs": [],
   "source": []
  }
 ],
 "metadata": {
  "kernelspec": {
   "display_name": "venv",
   "language": "python",
   "name": "python3"
  },
  "language_info": {
   "codemirror_mode": {
    "name": "ipython",
    "version": 3
   },
   "file_extension": ".py",
   "mimetype": "text/x-python",
   "name": "python",
   "nbconvert_exporter": "python",
   "pygments_lexer": "ipython3",
   "version": "3.10.2"
  }
 },
 "nbformat": 4,
 "nbformat_minor": 2
}
