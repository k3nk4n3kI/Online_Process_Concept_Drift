{
 "cells": [
  {
   "cell_type": "markdown",
   "metadata": {},
   "source": [
    "# **Preprocessing of Datasets**"
   ]
  },
  {
   "cell_type": "markdown",
   "metadata": {},
   "source": [
    "#### Set path variables and import functions"
   ]
  },
  {
   "cell_type": "code",
   "execution_count": 5,
   "metadata": {},
   "outputs": [],
   "source": [
    "# Append the directory containing the src folder to sys.path\n",
    "import sys\n",
    "\n",
    "sys.path.append('/Users/lars/Documents/Uni/Masterarbeit/Online_Process_Concept_Drift')"
   ]
  },
  {
   "cell_type": "code",
   "execution_count": 6,
   "metadata": {},
   "outputs": [],
   "source": [
    "#Path variables for datasets\n",
    "directory = \"/Users/lars/Documents/Uni/Masterarbeit/Online_Process_Concept_Drift\"\n",
    "path_raw = \"/data/raw/\"\n",
    "path_interim = \"/data/interim/\"\n",
    "path_processed = \"/data/processed/\""
   ]
  },
  {
   "cell_type": "code",
   "execution_count": 7,
   "metadata": {},
   "outputs": [
    {
     "name": "stdout",
     "output_type": "stream",
     "text": [
      "TensorFlow version: 2.16.1\n",
      "Transformers version: 4.40.1\n"
     ]
    }
   ],
   "source": [
    "#Load package and functions to notebook\n",
    "import tensorflow as tf\n",
    "print(\"TensorFlow version:\", tf.__version__)\n",
    "import transformers\n",
    "print(\"Transformers version:\", transformers.__version__)\n",
    "from src.data.data_manager import data_loader, save_event_log, delete_dataframes\n",
    "from src.data.data_generator import next_activity\n",
    "from src.features.preprocessing import outliers, missing_values, normalize_and_lowercase, generate_prefix_traces, early_fusion, create_multiindex, encoding_and_tokenizing, split_data"
   ]
  },
  {
   "cell_type": "markdown",
   "metadata": {},
   "source": [
    "### ----------------------------------------------------------\n",
    "### Start of preprocessing"
   ]
  },
  {
   "cell_type": "markdown",
   "metadata": {},
   "source": [
    "**Steps**\n",
    "\n",
    "1. Order events by timestamp\n",
    "2. Missing values\n",
    "3. Outlier detection (IQR)\n",
    "4. Convert numerical data to str\n",
    "5. Earliy fusion approach\n",
    "6. Tokenization\n",
    "7. Padding\n",
    "8. BERT feature encoder\n",
    "9. Train/Val/Test split"
   ]
  },
  {
   "cell_type": "markdown",
   "metadata": {},
   "source": [
    "**Load specific dataset into enviroment**"
   ]
  },
  {
   "cell_type": "code",
   "execution_count": 57,
   "metadata": {},
   "outputs": [
    {
     "name": "stdout",
     "output_type": "stream",
     "text": [
      "<class 'pandas.core.frame.DataFrame'>\n",
      "Index: 21348 entries, 0 to 4615\n",
      "Data columns (total 4 columns):\n",
      " #   Column             Non-Null Count  Dtype \n",
      "---  ------             --------------  ----- \n",
      " 0   time:timestamp     21348 non-null  object\n",
      " 1   case:concept:name  21348 non-null  object\n",
      " 2   concept:name       21348 non-null  object\n",
      " 3   org:resource       21348 non-null  object\n",
      "dtypes: object(4)\n",
      "memory usage: 833.9+ KB\n"
     ]
    }
   ],
   "source": [
    "#Loads dataset and orders it by time and case\n",
    "df = data_loader(directory, path_raw, \"Helpdesk_finale.csv\" , columns=[\"Complete Timestamp\", \"Case ID\", \"Activity\", \"Resource\"])\n",
    "df.info()\n"
   ]
  },
  {
   "cell_type": "markdown",
   "metadata": {},
   "source": [
    "**Clean dataset**"
   ]
  },
  {
   "cell_type": "code",
   "execution_count": 58,
   "metadata": {},
   "outputs": [
    {
     "data": {
      "text/html": [
       "<div>\n",
       "<style scoped>\n",
       "    .dataframe tbody tr th:only-of-type {\n",
       "        vertical-align: middle;\n",
       "    }\n",
       "\n",
       "    .dataframe tbody tr th {\n",
       "        vertical-align: top;\n",
       "    }\n",
       "\n",
       "    .dataframe thead th {\n",
       "        text-align: right;\n",
       "    }\n",
       "</style>\n",
       "<table border=\"1\" class=\"dataframe\">\n",
       "  <thead>\n",
       "    <tr style=\"text-align: right;\">\n",
       "      <th></th>\n",
       "      <th>time:timestamp</th>\n",
       "      <th>case:concept:name</th>\n",
       "      <th>concept:name</th>\n",
       "      <th>org:resource</th>\n",
       "    </tr>\n",
       "  </thead>\n",
       "  <tbody>\n",
       "    <tr>\n",
       "      <th>0</th>\n",
       "      <td>2012-10-09 14:50:17</td>\n",
       "      <td>Case 1</td>\n",
       "      <td>Assign seriousness</td>\n",
       "      <td>Value 1</td>\n",
       "    </tr>\n",
       "    <tr>\n",
       "      <th>1</th>\n",
       "      <td>2012-10-09 14:51:01</td>\n",
       "      <td>Case 1</td>\n",
       "      <td>Take in charge ticket</td>\n",
       "      <td>Value 1</td>\n",
       "    </tr>\n",
       "    <tr>\n",
       "      <th>2</th>\n",
       "      <td>2012-10-12 15:02:56</td>\n",
       "      <td>Case 1</td>\n",
       "      <td>Take in charge ticket</td>\n",
       "      <td>Value 2</td>\n",
       "    </tr>\n",
       "    <tr>\n",
       "      <th>3</th>\n",
       "      <td>2012-10-25 11:54:26</td>\n",
       "      <td>Case 1</td>\n",
       "      <td>Resolve ticket</td>\n",
       "      <td>Value 1</td>\n",
       "    </tr>\n",
       "    <tr>\n",
       "      <th>4</th>\n",
       "      <td>2012-11-09 12:54:39</td>\n",
       "      <td>Case 1</td>\n",
       "      <td>Closed</td>\n",
       "      <td>Value 3</td>\n",
       "    </tr>\n",
       "    <tr>\n",
       "      <th>...</th>\n",
       "      <td>...</td>\n",
       "      <td>...</td>\n",
       "      <td>...</td>\n",
       "      <td>...</td>\n",
       "    </tr>\n",
       "    <tr>\n",
       "      <th>4611</th>\n",
       "      <td>2013-01-04 16:51:50</td>\n",
       "      <td>Case 998</td>\n",
       "      <td>Closed</td>\n",
       "      <td>Value 3</td>\n",
       "    </tr>\n",
       "    <tr>\n",
       "      <th>4612</th>\n",
       "      <td>2013-02-12 16:06:37</td>\n",
       "      <td>Case 999</td>\n",
       "      <td>Assign seriousness</td>\n",
       "      <td>Value 1</td>\n",
       "    </tr>\n",
       "    <tr>\n",
       "      <th>4613</th>\n",
       "      <td>2013-02-25 11:37:20</td>\n",
       "      <td>Case 999</td>\n",
       "      <td>Take in charge ticket</td>\n",
       "      <td>Value 12</td>\n",
       "    </tr>\n",
       "    <tr>\n",
       "      <th>4614</th>\n",
       "      <td>2013-03-14 16:24:30</td>\n",
       "      <td>Case 999</td>\n",
       "      <td>Resolve ticket</td>\n",
       "      <td>Value 12</td>\n",
       "    </tr>\n",
       "    <tr>\n",
       "      <th>4615</th>\n",
       "      <td>2013-03-29 16:24:45</td>\n",
       "      <td>Case 999</td>\n",
       "      <td>Closed</td>\n",
       "      <td>Value 3</td>\n",
       "    </tr>\n",
       "  </tbody>\n",
       "</table>\n",
       "<p>21348 rows × 4 columns</p>\n",
       "</div>"
      ],
      "text/plain": [
       "           time:timestamp case:concept:name           concept:name  \\\n",
       "0     2012-10-09 14:50:17            Case 1     Assign seriousness   \n",
       "1     2012-10-09 14:51:01            Case 1  Take in charge ticket   \n",
       "2     2012-10-12 15:02:56            Case 1  Take in charge ticket   \n",
       "3     2012-10-25 11:54:26            Case 1         Resolve ticket   \n",
       "4     2012-11-09 12:54:39            Case 1                 Closed   \n",
       "...                   ...               ...                    ...   \n",
       "4611  2013-01-04 16:51:50          Case 998                 Closed   \n",
       "4612  2013-02-12 16:06:37          Case 999     Assign seriousness   \n",
       "4613  2013-02-25 11:37:20          Case 999  Take in charge ticket   \n",
       "4614  2013-03-14 16:24:30          Case 999         Resolve ticket   \n",
       "4615  2013-03-29 16:24:45          Case 999                 Closed   \n",
       "\n",
       "     org:resource  \n",
       "0         Value 1  \n",
       "1         Value 1  \n",
       "2         Value 2  \n",
       "3         Value 1  \n",
       "4         Value 3  \n",
       "...           ...  \n",
       "4611      Value 3  \n",
       "4612      Value 1  \n",
       "4613     Value 12  \n",
       "4614     Value 12  \n",
       "4615      Value 3  \n",
       "\n",
       "[21348 rows x 4 columns]"
      ]
     },
     "execution_count": 58,
     "metadata": {},
     "output_type": "execute_result"
    }
   ],
   "source": [
    "df"
   ]
  },
  {
   "cell_type": "code",
   "execution_count": 59,
   "metadata": {},
   "outputs": [
    {
     "name": "stdout",
     "output_type": "stream",
     "text": [
      "File saved as 2024-05-13_Helpdesk_next_activity.pkl\n"
     ]
    }
   ],
   "source": [
    "#Save dataset as pkl file for faster processing\n",
    "\n",
    "save_event_log(directory, path_interim, df, \"Helpdesk\")"
   ]
  },
  {
   "cell_type": "code",
   "execution_count": 60,
   "metadata": {},
   "outputs": [],
   "source": [
    "df = data_loader(directory, path_interim, \"Helpdesk\")"
   ]
  },
  {
   "cell_type": "code",
   "execution_count": 61,
   "metadata": {},
   "outputs": [
    {
     "data": {
      "text/html": [
       "<div>\n",
       "<style scoped>\n",
       "    .dataframe tbody tr th:only-of-type {\n",
       "        vertical-align: middle;\n",
       "    }\n",
       "\n",
       "    .dataframe tbody tr th {\n",
       "        vertical-align: top;\n",
       "    }\n",
       "\n",
       "    .dataframe thead th {\n",
       "        text-align: right;\n",
       "    }\n",
       "</style>\n",
       "<table border=\"1\" class=\"dataframe\">\n",
       "  <thead>\n",
       "    <tr style=\"text-align: right;\">\n",
       "      <th></th>\n",
       "      <th>time:timestamp</th>\n",
       "      <th>case:concept:name</th>\n",
       "      <th>concept:name</th>\n",
       "      <th>org:resource</th>\n",
       "    </tr>\n",
       "  </thead>\n",
       "  <tbody>\n",
       "    <tr>\n",
       "      <th>0</th>\n",
       "      <td>2012-10-09 14:50:17</td>\n",
       "      <td>Case 1</td>\n",
       "      <td>Assign seriousness</td>\n",
       "      <td>Value 1</td>\n",
       "    </tr>\n",
       "    <tr>\n",
       "      <th>1</th>\n",
       "      <td>2012-10-09 14:51:01</td>\n",
       "      <td>Case 1</td>\n",
       "      <td>Take in charge ticket</td>\n",
       "      <td>Value 1</td>\n",
       "    </tr>\n",
       "    <tr>\n",
       "      <th>2</th>\n",
       "      <td>2012-10-12 15:02:56</td>\n",
       "      <td>Case 1</td>\n",
       "      <td>Take in charge ticket</td>\n",
       "      <td>Value 2</td>\n",
       "    </tr>\n",
       "    <tr>\n",
       "      <th>3</th>\n",
       "      <td>2012-10-25 11:54:26</td>\n",
       "      <td>Case 1</td>\n",
       "      <td>Resolve ticket</td>\n",
       "      <td>Value 1</td>\n",
       "    </tr>\n",
       "    <tr>\n",
       "      <th>4</th>\n",
       "      <td>2012-11-09 12:54:39</td>\n",
       "      <td>Case 1</td>\n",
       "      <td>Closed</td>\n",
       "      <td>Value 3</td>\n",
       "    </tr>\n",
       "  </tbody>\n",
       "</table>\n",
       "</div>"
      ],
      "text/plain": [
       "        time:timestamp case:concept:name           concept:name org:resource\n",
       "0  2012-10-09 14:50:17            Case 1     Assign seriousness      Value 1\n",
       "1  2012-10-09 14:51:01            Case 1  Take in charge ticket      Value 1\n",
       "2  2012-10-12 15:02:56            Case 1  Take in charge ticket      Value 2\n",
       "3  2012-10-25 11:54:26            Case 1         Resolve ticket      Value 1\n",
       "4  2012-11-09 12:54:39            Case 1                 Closed      Value 3"
      ]
     },
     "execution_count": 61,
     "metadata": {},
     "output_type": "execute_result"
    }
   ],
   "source": [
    "df.head()"
   ]
  },
  {
   "cell_type": "code",
   "execution_count": 62,
   "metadata": {},
   "outputs": [],
   "source": [
    "# Remove missing values\n",
    "df_clean = missing_values(df, \"case:concept:name\")\n",
    "\n",
    "#Delete Outliers (IQR)\n",
    "df_clean = outliers(df_clean, \"case:concept:name\")"
   ]
  },
  {
   "cell_type": "code",
   "execution_count": 63,
   "metadata": {},
   "outputs": [
    {
     "data": {
      "text/html": [
       "<div>\n",
       "<style scoped>\n",
       "    .dataframe tbody tr th:only-of-type {\n",
       "        vertical-align: middle;\n",
       "    }\n",
       "\n",
       "    .dataframe tbody tr th {\n",
       "        vertical-align: top;\n",
       "    }\n",
       "\n",
       "    .dataframe thead th {\n",
       "        text-align: right;\n",
       "    }\n",
       "</style>\n",
       "<table border=\"1\" class=\"dataframe\">\n",
       "  <thead>\n",
       "    <tr style=\"text-align: right;\">\n",
       "      <th></th>\n",
       "      <th>time:timestamp</th>\n",
       "      <th>case:concept:name</th>\n",
       "      <th>concept:name</th>\n",
       "      <th>org:resource</th>\n",
       "    </tr>\n",
       "  </thead>\n",
       "  <tbody>\n",
       "    <tr>\n",
       "      <th>0</th>\n",
       "      <td>2012-10-09 14:50:17</td>\n",
       "      <td>Case 1</td>\n",
       "      <td>Assign-seriousness</td>\n",
       "      <td>Value 1</td>\n",
       "    </tr>\n",
       "    <tr>\n",
       "      <th>1</th>\n",
       "      <td>2012-10-09 14:51:01</td>\n",
       "      <td>Case 1</td>\n",
       "      <td>Take-in-charge-ticket</td>\n",
       "      <td>Value 1</td>\n",
       "    </tr>\n",
       "    <tr>\n",
       "      <th>2</th>\n",
       "      <td>2012-10-12 15:02:56</td>\n",
       "      <td>Case 1</td>\n",
       "      <td>Take-in-charge-ticket</td>\n",
       "      <td>Value 2</td>\n",
       "    </tr>\n",
       "    <tr>\n",
       "      <th>3</th>\n",
       "      <td>2012-10-25 11:54:26</td>\n",
       "      <td>Case 1</td>\n",
       "      <td>Resolve-ticket</td>\n",
       "      <td>Value 1</td>\n",
       "    </tr>\n",
       "    <tr>\n",
       "      <th>4</th>\n",
       "      <td>2012-11-09 12:54:39</td>\n",
       "      <td>Case 1</td>\n",
       "      <td>Closed</td>\n",
       "      <td>Value 3</td>\n",
       "    </tr>\n",
       "  </tbody>\n",
       "</table>\n",
       "</div>"
      ],
      "text/plain": [
       "        time:timestamp case:concept:name           concept:name org:resource\n",
       "0  2012-10-09 14:50:17            Case 1     Assign-seriousness      Value 1\n",
       "1  2012-10-09 14:51:01            Case 1  Take-in-charge-ticket      Value 1\n",
       "2  2012-10-12 15:02:56            Case 1  Take-in-charge-ticket      Value 2\n",
       "3  2012-10-25 11:54:26            Case 1         Resolve-ticket      Value 1\n",
       "4  2012-11-09 12:54:39            Case 1                 Closed      Value 3"
      ]
     },
     "execution_count": 63,
     "metadata": {},
     "output_type": "execute_result"
    }
   ],
   "source": [
    "df_clean.head()"
   ]
  },
  {
   "cell_type": "code",
   "execution_count": 64,
   "metadata": {},
   "outputs": [
    {
     "name": "stdout",
     "output_type": "stream",
     "text": [
      "\n",
      "99.99% quantile: 6.0\n",
      "99% quantile: 6.0\n",
      "95% quantile: 6.0\n",
      "75% quantile: 5.0\n",
      "50% quantile: 4.0\n",
      "25% quantile: 4.0\n"
     ]
    }
   ],
   "source": [
    "import numpy as np\n",
    "\n",
    "#Displays new quantil ranges for checking\n",
    "grouped_activities_df = df_clean.groupby('case:concept:name')['concept:name'].apply(list)\n",
    "\n",
    "trace_length_df = list()\n",
    "\n",
    "for i in grouped_activities_df:\n",
    "    trace_length_df.append(len(i))\n",
    "\n",
    "trace_length_df_array = np.array(trace_length_df)\n",
    "\n",
    "print(\"\\n99.99% quantile: {}\".format(np.quantile(trace_length_df_array, 0.9999)))\n",
    "print(\"99% quantile: {}\".format(np.quantile(trace_length_df_array, 0.99)))\n",
    "print(\"95% quantile: {}\".format(np.quantile(trace_length_df_array, 0.95)))\n",
    "print(\"75% quantile: {}\".format(np.quantile(trace_length_df_array, 0.75)))\n",
    "print(\"50% quantile: {}\".format(np.quantile(trace_length_df_array, 0.5)))\n",
    "print(\"25% quantile: {}\".format(np.quantile(trace_length_df_array, 0.25)))"
   ]
  },
  {
   "cell_type": "markdown",
   "metadata": {},
   "source": [
    "**Create next activity column**"
   ]
  },
  {
   "cell_type": "code",
   "execution_count": 65,
   "metadata": {},
   "outputs": [
    {
     "data": {
      "text/html": [
       "<div>\n",
       "<style scoped>\n",
       "    .dataframe tbody tr th:only-of-type {\n",
       "        vertical-align: middle;\n",
       "    }\n",
       "\n",
       "    .dataframe tbody tr th {\n",
       "        vertical-align: top;\n",
       "    }\n",
       "\n",
       "    .dataframe thead th {\n",
       "        text-align: right;\n",
       "    }\n",
       "</style>\n",
       "<table border=\"1\" class=\"dataframe\">\n",
       "  <thead>\n",
       "    <tr style=\"text-align: right;\">\n",
       "      <th></th>\n",
       "      <th>case:concept:name</th>\n",
       "      <th>time:timestamp</th>\n",
       "      <th>concept:name</th>\n",
       "      <th>org:resource</th>\n",
       "      <th>next activity</th>\n",
       "    </tr>\n",
       "  </thead>\n",
       "  <tbody>\n",
       "    <tr>\n",
       "      <th>0</th>\n",
       "      <td>Case 1</td>\n",
       "      <td>2012-10-09 14:50:17</td>\n",
       "      <td>Assign-seriousness</td>\n",
       "      <td>Value 1</td>\n",
       "      <td>Take-in-charge-ticket</td>\n",
       "    </tr>\n",
       "    <tr>\n",
       "      <th>1</th>\n",
       "      <td>Case 1</td>\n",
       "      <td>2012-10-09 14:51:01</td>\n",
       "      <td>Take-in-charge-ticket</td>\n",
       "      <td>Value 1</td>\n",
       "      <td>Take-in-charge-ticket</td>\n",
       "    </tr>\n",
       "    <tr>\n",
       "      <th>2</th>\n",
       "      <td>Case 1</td>\n",
       "      <td>2012-10-12 15:02:56</td>\n",
       "      <td>Take-in-charge-ticket</td>\n",
       "      <td>Value 2</td>\n",
       "      <td>Resolve-ticket</td>\n",
       "    </tr>\n",
       "    <tr>\n",
       "      <th>3</th>\n",
       "      <td>Case 1</td>\n",
       "      <td>2012-10-25 11:54:26</td>\n",
       "      <td>Resolve-ticket</td>\n",
       "      <td>Value 1</td>\n",
       "      <td>Closed</td>\n",
       "    </tr>\n",
       "    <tr>\n",
       "      <th>4</th>\n",
       "      <td>Case 1</td>\n",
       "      <td>2012-11-09 12:54:39</td>\n",
       "      <td>Closed</td>\n",
       "      <td>Value 3</td>\n",
       "      <td>end</td>\n",
       "    </tr>\n",
       "    <tr>\n",
       "      <th>...</th>\n",
       "      <td>...</td>\n",
       "      <td>...</td>\n",
       "      <td>...</td>\n",
       "      <td>...</td>\n",
       "      <td>...</td>\n",
       "    </tr>\n",
       "    <tr>\n",
       "      <th>4611</th>\n",
       "      <td>Case 998</td>\n",
       "      <td>2013-01-04 16:51:50</td>\n",
       "      <td>Closed</td>\n",
       "      <td>Value 3</td>\n",
       "      <td>end</td>\n",
       "    </tr>\n",
       "    <tr>\n",
       "      <th>4612</th>\n",
       "      <td>Case 999</td>\n",
       "      <td>2013-02-12 16:06:37</td>\n",
       "      <td>Assign-seriousness</td>\n",
       "      <td>Value 1</td>\n",
       "      <td>Take-in-charge-ticket</td>\n",
       "    </tr>\n",
       "    <tr>\n",
       "      <th>4613</th>\n",
       "      <td>Case 999</td>\n",
       "      <td>2013-02-25 11:37:20</td>\n",
       "      <td>Take-in-charge-ticket</td>\n",
       "      <td>Value 12</td>\n",
       "      <td>Resolve-ticket</td>\n",
       "    </tr>\n",
       "    <tr>\n",
       "      <th>4614</th>\n",
       "      <td>Case 999</td>\n",
       "      <td>2013-03-14 16:24:30</td>\n",
       "      <td>Resolve-ticket</td>\n",
       "      <td>Value 12</td>\n",
       "      <td>Closed</td>\n",
       "    </tr>\n",
       "    <tr>\n",
       "      <th>4615</th>\n",
       "      <td>Case 999</td>\n",
       "      <td>2013-03-29 16:24:45</td>\n",
       "      <td>Closed</td>\n",
       "      <td>Value 3</td>\n",
       "      <td>end</td>\n",
       "    </tr>\n",
       "  </tbody>\n",
       "</table>\n",
       "<p>18809 rows × 5 columns</p>\n",
       "</div>"
      ],
      "text/plain": [
       "     case:concept:name       time:timestamp           concept:name  \\\n",
       "0               Case 1  2012-10-09 14:50:17     Assign-seriousness   \n",
       "1               Case 1  2012-10-09 14:51:01  Take-in-charge-ticket   \n",
       "2               Case 1  2012-10-12 15:02:56  Take-in-charge-ticket   \n",
       "3               Case 1  2012-10-25 11:54:26         Resolve-ticket   \n",
       "4               Case 1  2012-11-09 12:54:39                 Closed   \n",
       "...                ...                  ...                    ...   \n",
       "4611          Case 998  2013-01-04 16:51:50                 Closed   \n",
       "4612          Case 999  2013-02-12 16:06:37     Assign-seriousness   \n",
       "4613          Case 999  2013-02-25 11:37:20  Take-in-charge-ticket   \n",
       "4614          Case 999  2013-03-14 16:24:30         Resolve-ticket   \n",
       "4615          Case 999  2013-03-29 16:24:45                 Closed   \n",
       "\n",
       "     org:resource          next activity  \n",
       "0         Value 1  Take-in-charge-ticket  \n",
       "1         Value 1  Take-in-charge-ticket  \n",
       "2         Value 2         Resolve-ticket  \n",
       "3         Value 1                 Closed  \n",
       "4         Value 3                    end  \n",
       "...           ...                    ...  \n",
       "4611      Value 3                    end  \n",
       "4612      Value 1  Take-in-charge-ticket  \n",
       "4613     Value 12         Resolve-ticket  \n",
       "4614     Value 12                 Closed  \n",
       "4615      Value 3                    end  \n",
       "\n",
       "[18809 rows x 5 columns]"
      ]
     },
     "execution_count": 65,
     "metadata": {},
     "output_type": "execute_result"
    }
   ],
   "source": [
    "#Create next activity for each event\n",
    "df_clean = next_activity(df_clean)\n",
    "df_clean"
   ]
  },
  {
   "cell_type": "markdown",
   "metadata": {},
   "source": [
    "**Train/Test/Val split**\n",
    "See: \n",
    "\n",
    "Next-Activity Prediction for Non-stationary\n",
    "Processes with Unseen Data Variability\n",
    "\n",
    "and\n",
    "\n",
    "Outcome-Oriented Predictive Process Monitoring:\n",
    "Review and Benchmark"
   ]
  },
  {
   "cell_type": "code",
   "execution_count": 66,
   "metadata": {},
   "outputs": [
    {
     "name": "stdout",
     "output_type": "stream",
     "text": [
      "Train set shape: (13175, 5)\n",
      "Validation set shape: (2805, 5)\n",
      "Test set shape: (2829, 5)\n"
     ]
    }
   ],
   "source": [
    "train_df, val_df, test_df = split_data(df_clean)"
   ]
  },
  {
   "cell_type": "code",
   "execution_count": 67,
   "metadata": {},
   "outputs": [
    {
     "data": {
      "text/html": [
       "<div>\n",
       "<style scoped>\n",
       "    .dataframe tbody tr th:only-of-type {\n",
       "        vertical-align: middle;\n",
       "    }\n",
       "\n",
       "    .dataframe tbody tr th {\n",
       "        vertical-align: top;\n",
       "    }\n",
       "\n",
       "    .dataframe thead th {\n",
       "        text-align: right;\n",
       "    }\n",
       "</style>\n",
       "<table border=\"1\" class=\"dataframe\">\n",
       "  <thead>\n",
       "    <tr style=\"text-align: right;\">\n",
       "      <th></th>\n",
       "      <th>case:concept:name</th>\n",
       "      <th>time:timestamp</th>\n",
       "      <th>concept:name</th>\n",
       "      <th>org:resource</th>\n",
       "      <th>next activity</th>\n",
       "    </tr>\n",
       "  </thead>\n",
       "  <tbody>\n",
       "    <tr>\n",
       "      <th>18179</th>\n",
       "      <td>case 3896</td>\n",
       "      <td>2013-09-11 13:04:49</td>\n",
       "      <td>assign-seriousness</td>\n",
       "      <td>value 1</td>\n",
       "      <td>take-in-charge-ticket</td>\n",
       "    </tr>\n",
       "    <tr>\n",
       "      <th>18180</th>\n",
       "      <td>case 3896</td>\n",
       "      <td>2013-09-17 10:30:20</td>\n",
       "      <td>take-in-charge-ticket</td>\n",
       "      <td>value 9</td>\n",
       "      <td>wait</td>\n",
       "    </tr>\n",
       "    <tr>\n",
       "      <th>18181</th>\n",
       "      <td>case 3896</td>\n",
       "      <td>2013-09-17 13:56:27</td>\n",
       "      <td>wait</td>\n",
       "      <td>value 9</td>\n",
       "      <td>resolve-ticket</td>\n",
       "    </tr>\n",
       "    <tr>\n",
       "      <th>18182</th>\n",
       "      <td>case 3896</td>\n",
       "      <td>2013-09-27 13:19:31</td>\n",
       "      <td>resolve-ticket</td>\n",
       "      <td>value 9</td>\n",
       "      <td>closed</td>\n",
       "    </tr>\n",
       "    <tr>\n",
       "      <th>18183</th>\n",
       "      <td>case 3896</td>\n",
       "      <td>2013-10-12 13:19:52</td>\n",
       "      <td>closed</td>\n",
       "      <td>value 3</td>\n",
       "      <td>end</td>\n",
       "    </tr>\n",
       "  </tbody>\n",
       "</table>\n",
       "</div>"
      ],
      "text/plain": [
       "      case:concept:name       time:timestamp           concept:name  \\\n",
       "18179         case 3896  2013-09-11 13:04:49     assign-seriousness   \n",
       "18180         case 3896  2013-09-17 10:30:20  take-in-charge-ticket   \n",
       "18181         case 3896  2013-09-17 13:56:27                   wait   \n",
       "18182         case 3896  2013-09-27 13:19:31         resolve-ticket   \n",
       "18183         case 3896  2013-10-12 13:19:52                 closed   \n",
       "\n",
       "      org:resource          next activity  \n",
       "18179      value 1  take-in-charge-ticket  \n",
       "18180      value 9                   wait  \n",
       "18181      value 9         resolve-ticket  \n",
       "18182      value 9                 closed  \n",
       "18183      value 3                    end  "
      ]
     },
     "execution_count": 67,
     "metadata": {},
     "output_type": "execute_result"
    }
   ],
   "source": [
    "#Convert df entries to string values and lowercase df\n",
    "\n",
    "train_df = normalize_and_lowercase(train_df)\n",
    "val_df = normalize_and_lowercase(val_df)\n",
    "test_df = normalize_and_lowercase(test_df)\n",
    "\n",
    "val_df.head()"
   ]
  },
  {
   "cell_type": "markdown",
   "metadata": {},
   "source": [
    "**Generate prefix traces**"
   ]
  },
  {
   "cell_type": "code",
   "execution_count": 68,
   "metadata": {},
   "outputs": [],
   "source": [
    "train_df = create_multiindex(train_df)\n",
    "val_df = create_multiindex(val_df)\n",
    "test_df = create_multiindex(test_df)"
   ]
  },
  {
   "cell_type": "code",
   "execution_count": 69,
   "metadata": {},
   "outputs": [
    {
     "data": {
      "text/html": [
       "<div>\n",
       "<style scoped>\n",
       "    .dataframe tbody tr th:only-of-type {\n",
       "        vertical-align: middle;\n",
       "    }\n",
       "\n",
       "    .dataframe tbody tr th {\n",
       "        vertical-align: top;\n",
       "    }\n",
       "\n",
       "    .dataframe thead th {\n",
       "        text-align: right;\n",
       "    }\n",
       "</style>\n",
       "<table border=\"1\" class=\"dataframe\">\n",
       "  <thead>\n",
       "    <tr style=\"text-align: right;\">\n",
       "      <th></th>\n",
       "      <th></th>\n",
       "      <th>concept:name</th>\n",
       "      <th>next activity</th>\n",
       "    </tr>\n",
       "    <tr>\n",
       "      <th>caseID</th>\n",
       "      <th>time</th>\n",
       "      <th></th>\n",
       "      <th></th>\n",
       "    </tr>\n",
       "  </thead>\n",
       "  <tbody>\n",
       "    <tr>\n",
       "      <th rowspan=\"5\" valign=\"top\">case 1</th>\n",
       "      <th>2012-10-09 14:50:17</th>\n",
       "      <td>assign-seriousness</td>\n",
       "      <td>take-in-charge-ticket</td>\n",
       "    </tr>\n",
       "    <tr>\n",
       "      <th>2012-10-09 14:51:01</th>\n",
       "      <td>take-in-charge-ticket</td>\n",
       "      <td>take-in-charge-ticket</td>\n",
       "    </tr>\n",
       "    <tr>\n",
       "      <th>2012-10-12 15:02:56</th>\n",
       "      <td>take-in-charge-ticket</td>\n",
       "      <td>resolve-ticket</td>\n",
       "    </tr>\n",
       "    <tr>\n",
       "      <th>2012-10-25 11:54:26</th>\n",
       "      <td>resolve-ticket</td>\n",
       "      <td>closed</td>\n",
       "    </tr>\n",
       "    <tr>\n",
       "      <th>2012-11-09 12:54:39</th>\n",
       "      <td>closed</td>\n",
       "      <td>end</td>\n",
       "    </tr>\n",
       "    <tr>\n",
       "      <th>...</th>\n",
       "      <th>...</th>\n",
       "      <td>...</td>\n",
       "      <td>...</td>\n",
       "    </tr>\n",
       "    <tr>\n",
       "      <th rowspan=\"5\" valign=\"top\">case 3895</th>\n",
       "      <th>2011-09-16 14:58:43</th>\n",
       "      <td>assign-seriousness</td>\n",
       "      <td>take-in-charge-ticket</td>\n",
       "    </tr>\n",
       "    <tr>\n",
       "      <th>2011-09-23 13:27:02</th>\n",
       "      <td>take-in-charge-ticket</td>\n",
       "      <td>wait</td>\n",
       "    </tr>\n",
       "    <tr>\n",
       "      <th>2011-09-23 14:02:48</th>\n",
       "      <td>wait</td>\n",
       "      <td>resolve-ticket</td>\n",
       "    </tr>\n",
       "    <tr>\n",
       "      <th>2011-09-27 15:47:03</th>\n",
       "      <td>resolve-ticket</td>\n",
       "      <td>closed</td>\n",
       "    </tr>\n",
       "    <tr>\n",
       "      <th>2011-10-29 07:50:35</th>\n",
       "      <td>closed</td>\n",
       "      <td>end</td>\n",
       "    </tr>\n",
       "  </tbody>\n",
       "</table>\n",
       "<p>13175 rows × 2 columns</p>\n",
       "</div>"
      ],
      "text/plain": [
       "                                        concept:name          next activity\n",
       "caseID    time                                                             \n",
       "case 1    2012-10-09 14:50:17     assign-seriousness  take-in-charge-ticket\n",
       "          2012-10-09 14:51:01  take-in-charge-ticket  take-in-charge-ticket\n",
       "          2012-10-12 15:02:56  take-in-charge-ticket         resolve-ticket\n",
       "          2012-10-25 11:54:26         resolve-ticket                 closed\n",
       "          2012-11-09 12:54:39                 closed                    end\n",
       "...                                              ...                    ...\n",
       "case 3895 2011-09-16 14:58:43     assign-seriousness  take-in-charge-ticket\n",
       "          2011-09-23 13:27:02  take-in-charge-ticket                   wait\n",
       "          2011-09-23 14:02:48                   wait         resolve-ticket\n",
       "          2011-09-27 15:47:03         resolve-ticket                 closed\n",
       "          2011-10-29 07:50:35                 closed                    end\n",
       "\n",
       "[13175 rows x 2 columns]"
      ]
     },
     "execution_count": 69,
     "metadata": {},
     "output_type": "execute_result"
    }
   ],
   "source": [
    "train_df"
   ]
  },
  {
   "cell_type": "code",
   "execution_count": 70,
   "metadata": {},
   "outputs": [],
   "source": [
    "train_df = generate_prefix_traces(train_df)\n",
    "val_df = generate_prefix_traces(val_df)\n",
    "test_df = generate_prefix_traces(test_df)\n"
   ]
  },
  {
   "cell_type": "markdown",
   "metadata": {},
   "source": [
    "**Create sequencalized prefix traces**"
   ]
  },
  {
   "cell_type": "code",
   "execution_count": 71,
   "metadata": {},
   "outputs": [],
   "source": [
    "#Create dataframe that contains sequentialized prefix traces and the corresponding next activity\n",
    "train_sequenzes = early_fusion(train_df)\n",
    "val_sequenzes = early_fusion(val_df)\n",
    "test_sequenzes = early_fusion(test_df)"
   ]
  },
  {
   "cell_type": "code",
   "execution_count": 72,
   "metadata": {},
   "outputs": [
    {
     "data": {
      "text/plain": [
       "(                                     concept:name\n",
       " caseID time                                      \n",
       " case 1 2012-10-09 14:50:17     assign-seriousness\n",
       "        2012-10-09 14:51:01  take-in-charge-ticket\n",
       "        2012-10-12 15:02:56  take-in-charge-ticket,\n",
       " 'resolve-ticket')"
      ]
     },
     "execution_count": 72,
     "metadata": {},
     "output_type": "execute_result"
    }
   ],
   "source": [
    "train_df[2]"
   ]
  },
  {
   "cell_type": "code",
   "execution_count": 73,
   "metadata": {},
   "outputs": [
    {
     "data": {
      "text/html": [
       "<div>\n",
       "<style scoped>\n",
       "    .dataframe tbody tr th:only-of-type {\n",
       "        vertical-align: middle;\n",
       "    }\n",
       "\n",
       "    .dataframe tbody tr th {\n",
       "        vertical-align: top;\n",
       "    }\n",
       "\n",
       "    .dataframe thead th {\n",
       "        text-align: right;\n",
       "    }\n",
       "</style>\n",
       "<table border=\"1\" class=\"dataframe\">\n",
       "  <thead>\n",
       "    <tr style=\"text-align: right;\">\n",
       "      <th></th>\n",
       "      <th>Prefix_Trace</th>\n",
       "      <th>Next_Activity</th>\n",
       "    </tr>\n",
       "  </thead>\n",
       "  <tbody>\n",
       "    <tr>\n",
       "      <th>0</th>\n",
       "      <td>assign-seriousness</td>\n",
       "      <td>take-in-charge-ticket</td>\n",
       "    </tr>\n",
       "    <tr>\n",
       "      <th>1</th>\n",
       "      <td>assign-seriousness take-in-charge-ticket</td>\n",
       "      <td>take-in-charge-ticket</td>\n",
       "    </tr>\n",
       "    <tr>\n",
       "      <th>2</th>\n",
       "      <td>assign-seriousness take-in-charge-ticket take-...</td>\n",
       "      <td>resolve-ticket</td>\n",
       "    </tr>\n",
       "    <tr>\n",
       "      <th>3</th>\n",
       "      <td>assign-seriousness take-in-charge-ticket take-...</td>\n",
       "      <td>closed</td>\n",
       "    </tr>\n",
       "    <tr>\n",
       "      <th>4</th>\n",
       "      <td>assign-seriousness take-in-charge-ticket take-...</td>\n",
       "      <td>end</td>\n",
       "    </tr>\n",
       "    <tr>\n",
       "      <th>...</th>\n",
       "      <td>...</td>\n",
       "      <td>...</td>\n",
       "    </tr>\n",
       "    <tr>\n",
       "      <th>13170</th>\n",
       "      <td>assign-seriousness</td>\n",
       "      <td>take-in-charge-ticket</td>\n",
       "    </tr>\n",
       "    <tr>\n",
       "      <th>13171</th>\n",
       "      <td>assign-seriousness take-in-charge-ticket</td>\n",
       "      <td>wait</td>\n",
       "    </tr>\n",
       "    <tr>\n",
       "      <th>13172</th>\n",
       "      <td>assign-seriousness take-in-charge-ticket wait</td>\n",
       "      <td>resolve-ticket</td>\n",
       "    </tr>\n",
       "    <tr>\n",
       "      <th>13173</th>\n",
       "      <td>assign-seriousness take-in-charge-ticket wait ...</td>\n",
       "      <td>closed</td>\n",
       "    </tr>\n",
       "    <tr>\n",
       "      <th>13174</th>\n",
       "      <td>assign-seriousness take-in-charge-ticket wait ...</td>\n",
       "      <td>end</td>\n",
       "    </tr>\n",
       "  </tbody>\n",
       "</table>\n",
       "<p>13175 rows × 2 columns</p>\n",
       "</div>"
      ],
      "text/plain": [
       "                                            Prefix_Trace  \\\n",
       "0                                     assign-seriousness   \n",
       "1               assign-seriousness take-in-charge-ticket   \n",
       "2      assign-seriousness take-in-charge-ticket take-...   \n",
       "3      assign-seriousness take-in-charge-ticket take-...   \n",
       "4      assign-seriousness take-in-charge-ticket take-...   \n",
       "...                                                  ...   \n",
       "13170                                 assign-seriousness   \n",
       "13171           assign-seriousness take-in-charge-ticket   \n",
       "13172      assign-seriousness take-in-charge-ticket wait   \n",
       "13173  assign-seriousness take-in-charge-ticket wait ...   \n",
       "13174  assign-seriousness take-in-charge-ticket wait ...   \n",
       "\n",
       "               Next_Activity  \n",
       "0      take-in-charge-ticket  \n",
       "1      take-in-charge-ticket  \n",
       "2             resolve-ticket  \n",
       "3                     closed  \n",
       "4                        end  \n",
       "...                      ...  \n",
       "13170  take-in-charge-ticket  \n",
       "13171                   wait  \n",
       "13172         resolve-ticket  \n",
       "13173                 closed  \n",
       "13174                    end  \n",
       "\n",
       "[13175 rows x 2 columns]"
      ]
     },
     "execution_count": 73,
     "metadata": {},
     "output_type": "execute_result"
    }
   ],
   "source": [
    "train_sequenzes"
   ]
  },
  {
   "cell_type": "markdown",
   "metadata": {},
   "source": [
    "**Tokenize and encode prefix traces and next activities**\n",
    "\n",
    "**Creates final dataset made of tensors**"
   ]
  },
  {
   "cell_type": "code",
   "execution_count": 74,
   "metadata": {},
   "outputs": [
    {
     "name": "stderr",
     "output_type": "stream",
     "text": [
      "/Users/lars/Documents/Uni/Masterarbeit/Online_Process_Concept_Drift/venv/lib/python3.10/site-packages/huggingface_hub/file_download.py:1132: FutureWarning: `resume_download` is deprecated and will be removed in version 1.0.0. Downloads always resume when possible. If you want to force a new download, use `force_download=True`.\n",
      "  warnings.warn(\n",
      "/Users/lars/Documents/Uni/Masterarbeit/Online_Process_Concept_Drift/venv/lib/python3.10/site-packages/huggingface_hub/file_download.py:1132: FutureWarning: `resume_download` is deprecated and will be removed in version 1.0.0. Downloads always resume when possible. If you want to force a new download, use `force_download=True`.\n",
      "  warnings.warn(\n",
      "/Users/lars/Documents/Uni/Masterarbeit/Online_Process_Concept_Drift/venv/lib/python3.10/site-packages/huggingface_hub/file_download.py:1132: FutureWarning: `resume_download` is deprecated and will be removed in version 1.0.0. Downloads always resume when possible. If you want to force a new download, use `force_download=True`.\n",
      "  warnings.warn(\n"
     ]
    }
   ],
   "source": [
    "#Tokenizes prefix traces and encodes next activities\n",
    "#Afterwars a dataset consisting of tensors is created\n",
    "train = encoding_and_tokenizing(train_sequenzes, \"Prefix_Trace\", \"Next_Activity\")\n",
    "val = encoding_and_tokenizing(val_sequenzes, \"Prefix_Trace\", \"Next_Activity\")\n",
    "test = encoding_and_tokenizing(test_sequenzes, \"Prefix_Trace\", \"Next_Activity\")"
   ]
  },
  {
   "cell_type": "code",
   "execution_count": 75,
   "metadata": {},
   "outputs": [
    {
     "name": "stdout",
     "output_type": "stream",
     "text": [
      "<_TensorSliceDataset element_spec=(TensorSpec(shape=(512,), dtype=tf.int32, name=None), TensorSpec(shape=(), dtype=tf.int32, name=None))>\n",
      "<_TensorSliceDataset element_spec=(TensorSpec(shape=(512,), dtype=tf.int32, name=None), TensorSpec(shape=(), dtype=tf.int32, name=None))>\n",
      "<_TensorSliceDataset element_spec=(TensorSpec(shape=(512,), dtype=tf.int32, name=None), TensorSpec(shape=(), dtype=tf.int32, name=None))>\n"
     ]
    }
   ],
   "source": [
    "print(train)\n",
    "print(val)\n",
    "print(test)"
   ]
  },
  {
   "cell_type": "code",
   "execution_count": 76,
   "metadata": {},
   "outputs": [
    {
     "name": "stdout",
     "output_type": "stream",
     "text": [
      "Saved new folder '/Users/lars/Documents/Uni/Masterarbeit/Online_Process_Concept_Drift/data/processed/2024-05-13_ Helpdesk_train_tensor'\n",
      "File saved as 2024-05-13_ Helpdesk_train_tensor\n",
      "Saved new folder '/Users/lars/Documents/Uni/Masterarbeit/Online_Process_Concept_Drift/data/processed/2024-05-13_ Helpdesk_val_tensor'\n",
      "File saved as 2024-05-13_ Helpdesk_val_tensor\n",
      "Saved new folder '/Users/lars/Documents/Uni/Masterarbeit/Online_Process_Concept_Drift/data/processed/2024-05-13_ Helpdesk_test_tensor'\n",
      "File saved as 2024-05-13_ Helpdesk_test_tensor\n"
     ]
    }
   ],
   "source": [
    "save_event_log(directory, path_processed, train, \"Helpdesk\", \"train\")\n",
    "save_event_log(directory, path_processed, val, \"Helpdesk\", \"val\")\n",
    "save_event_log(directory, path_processed, test, \"Helpdesk\", \"test\")\n",
    "\n"
   ]
  },
  {
   "cell_type": "code",
   "execution_count": 77,
   "metadata": {},
   "outputs": [
    {
     "name": "stdout",
     "output_type": "stream",
     "text": [
      "Loading dataset from folder: '/Users/lars/Documents/Uni/Masterarbeit/Online_Process_Concept_Drift/data/processed/2024-05-13_ Helpdesk_train_tensor'\n",
      "Loading dataset from folder: '/Users/lars/Documents/Uni/Masterarbeit/Online_Process_Concept_Drift/data/processed/2024-05-13_ Helpdesk_val_tensor'\n",
      "Loading dataset from folder: '/Users/lars/Documents/Uni/Masterarbeit/Online_Process_Concept_Drift/data/processed/2024-05-13_ Helpdesk_test_tensor'\n"
     ]
    }
   ],
   "source": [
    "train_tensor = data_loader(directory, path_processed, \"Helpdesk_train\")\n",
    "val_tensor = data_loader(directory, path_processed, \"Helpdesk_val\")\n",
    "test_tensor = data_loader(directory, path_processed, \"Helpdesk_test\")"
   ]
  },
  {
   "cell_type": "code",
   "execution_count": 78,
   "metadata": {},
   "outputs": [
    {
     "data": {
      "text/plain": [
       "<_LoadDataset element_spec=(TensorSpec(shape=(512,), dtype=tf.int32, name=None), TensorSpec(shape=(), dtype=tf.int32, name=None))>"
      ]
     },
     "execution_count": 78,
     "metadata": {},
     "output_type": "execute_result"
    }
   ],
   "source": [
    "train_tensor"
   ]
  },
  {
   "cell_type": "markdown",
   "metadata": {},
   "source": [
    "## Testing"
   ]
  },
  {
   "cell_type": "markdown",
   "metadata": {},
   "source": [
    "Train/Val/Test split"
   ]
  },
  {
   "cell_type": "code",
   "execution_count": 30,
   "metadata": {},
   "outputs": [],
   "source": [
    "def decode_tokenized_sequences(tokenized_sequences, tokenizer):\n",
    "\n",
    "    decoded_sequences = [tokenizer.decode(seq, skip_special_tokens=True) for seq in tokenized_sequences]\n",
    "    \n",
    "    return decoded_sequences"
   ]
  },
  {
   "cell_type": "code",
   "execution_count": null,
   "metadata": {},
   "outputs": [],
   "source": []
  }
 ],
 "metadata": {
  "kernelspec": {
   "display_name": "base",
   "language": "python",
   "name": "python3"
  },
  "language_info": {
   "codemirror_mode": {
    "name": "ipython",
    "version": 3
   },
   "file_extension": ".py",
   "mimetype": "text/x-python",
   "name": "python",
   "nbconvert_exporter": "python",
   "pygments_lexer": "ipython3",
   "version": "3.10.2"
  }
 },
 "nbformat": 4,
 "nbformat_minor": 2
}
