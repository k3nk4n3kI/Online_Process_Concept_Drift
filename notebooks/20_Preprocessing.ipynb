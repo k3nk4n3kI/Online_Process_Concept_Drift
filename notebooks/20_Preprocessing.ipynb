{
 "cells": [
  {
   "cell_type": "markdown",
   "metadata": {},
   "source": [
    "**Preprocessing of Datasets**"
   ]
  },
  {
   "cell_type": "code",
   "execution_count": 1,
   "metadata": {},
   "outputs": [],
   "source": [
    "# Append the directory containing the src folder to sys.path\n",
    "import sys\n",
    "\n",
    "sys.path.append('/Users/lars/Documents/Uni/Masterarbeit/Online_Process_Concept_Drift')"
   ]
  },
  {
   "cell_type": "code",
   "execution_count": 2,
   "metadata": {},
   "outputs": [
    {
     "name": "stdout",
     "output_type": "stream",
     "text": [
      "TensorFlow version: 2.16.1\n",
      "Transformers version: 4.40.1\n"
     ]
    }
   ],
   "source": [
    "#Load package and functions to notebook\n",
    "import numpy as np\n",
    "import pandas as pd\n",
    "import tensorflow as tf\n",
    "print(\"TensorFlow version:\", tf.__version__)\n",
    "import transformers\n",
    "print(\"Transformers version:\", transformers.__version__)\n",
    "from src.data.data_manager import data_loader, save_event_log, delete_dataframes, load_event_log\n",
    "from src.data.data_generator import next_activity\n",
    "from src.features.preprocessing import outliers, missing_values, normalize_and_lowercase, generate_prefix_traces, early_fusion"
   ]
  },
  {
   "cell_type": "markdown",
   "metadata": {},
   "source": [
    "**Steps**\n",
    "\n",
    "1. Order events by timestamp\n",
    "2. Missing values\n",
    "3. Outlier detection (IQR)\n",
    "4. Convert numerical data to str\n",
    "5. Earliy fusion approach\n",
    "6. Tokenization\n",
    "7. Padding\n",
    "8. BERT feature encoder\n",
    "9. Train/Val/Test split"
   ]
  },
  {
   "cell_type": "markdown",
   "metadata": {},
   "source": [
    "**Helpdesk**"
   ]
  },
  {
   "cell_type": "code",
   "execution_count": 3,
   "metadata": {},
   "outputs": [
    {
     "name": "stdout",
     "output_type": "stream",
     "text": [
      "<class 'pandas.core.frame.DataFrame'>\n",
      "Index: 21348 entries, 0 to 4615\n",
      "Data columns (total 4 columns):\n",
      " #   Column             Non-Null Count  Dtype         \n",
      "---  ------             --------------  -----         \n",
      " 0   time:timestamp     21348 non-null  datetime64[ns]\n",
      " 1   case:concept:name  21348 non-null  object        \n",
      " 2   concept:name       21348 non-null  object        \n",
      " 3   org:resource       21348 non-null  object        \n",
      "dtypes: datetime64[ns](1), object(3)\n",
      "memory usage: 833.9+ KB\n"
     ]
    }
   ],
   "source": [
    "#Loads dataset and orders it by time and case\n",
    "df_helpdesk = data_loader(\"/Users/lars/Documents/Uni/Masterarbeit/Online_Process_Concept_Drift/data/raw/Helpdesk_finale.csv\", columns=[\"Complete Timestamp\", \"Case ID\", \"Activity\", \"Resource\"])\n",
    "df_helpdesk.info()"
   ]
  },
  {
   "cell_type": "code",
   "execution_count": 4,
   "metadata": {},
   "outputs": [],
   "source": [
    "# Remove missing values\n",
    "df_helpdesk_clean = missing_values(df_helpdesk, \"case:concept:name\")\n",
    "\n",
    "#Delete Outliers (IQR)\n",
    "df_helpdesk_clean = outliers(df_helpdesk_clean, \"case:concept:name\")"
   ]
  },
  {
   "cell_type": "code",
   "execution_count": 5,
   "metadata": {},
   "outputs": [
    {
     "data": {
      "text/html": [
       "<div>\n",
       "<style scoped>\n",
       "    .dataframe tbody tr th:only-of-type {\n",
       "        vertical-align: middle;\n",
       "    }\n",
       "\n",
       "    .dataframe tbody tr th {\n",
       "        vertical-align: top;\n",
       "    }\n",
       "\n",
       "    .dataframe thead th {\n",
       "        text-align: right;\n",
       "    }\n",
       "</style>\n",
       "<table border=\"1\" class=\"dataframe\">\n",
       "  <thead>\n",
       "    <tr style=\"text-align: right;\">\n",
       "      <th></th>\n",
       "      <th>time:timestamp</th>\n",
       "      <th>case:concept:name</th>\n",
       "      <th>concept:name</th>\n",
       "      <th>org:resource</th>\n",
       "    </tr>\n",
       "  </thead>\n",
       "  <tbody>\n",
       "    <tr>\n",
       "      <th>0</th>\n",
       "      <td>2012-10-09 14:50:17</td>\n",
       "      <td>Case 1</td>\n",
       "      <td>Assign-seriousness</td>\n",
       "      <td>Value 1</td>\n",
       "    </tr>\n",
       "    <tr>\n",
       "      <th>1</th>\n",
       "      <td>2012-10-09 14:51:01</td>\n",
       "      <td>Case 1</td>\n",
       "      <td>Take-in-charge-ticket</td>\n",
       "      <td>Value 1</td>\n",
       "    </tr>\n",
       "    <tr>\n",
       "      <th>2</th>\n",
       "      <td>2012-10-12 15:02:56</td>\n",
       "      <td>Case 1</td>\n",
       "      <td>Take-in-charge-ticket</td>\n",
       "      <td>Value 2</td>\n",
       "    </tr>\n",
       "    <tr>\n",
       "      <th>3</th>\n",
       "      <td>2012-10-25 11:54:26</td>\n",
       "      <td>Case 1</td>\n",
       "      <td>Resolve-ticket</td>\n",
       "      <td>Value 1</td>\n",
       "    </tr>\n",
       "    <tr>\n",
       "      <th>4</th>\n",
       "      <td>2012-11-09 12:54:39</td>\n",
       "      <td>Case 1</td>\n",
       "      <td>Closed</td>\n",
       "      <td>Value 3</td>\n",
       "    </tr>\n",
       "  </tbody>\n",
       "</table>\n",
       "</div>"
      ],
      "text/plain": [
       "       time:timestamp case:concept:name           concept:name org:resource\n",
       "0 2012-10-09 14:50:17            Case 1     Assign-seriousness      Value 1\n",
       "1 2012-10-09 14:51:01            Case 1  Take-in-charge-ticket      Value 1\n",
       "2 2012-10-12 15:02:56            Case 1  Take-in-charge-ticket      Value 2\n",
       "3 2012-10-25 11:54:26            Case 1         Resolve-ticket      Value 1\n",
       "4 2012-11-09 12:54:39            Case 1                 Closed      Value 3"
      ]
     },
     "execution_count": 5,
     "metadata": {},
     "output_type": "execute_result"
    }
   ],
   "source": [
    "df_helpdesk_clean.head()"
   ]
  },
  {
   "cell_type": "code",
   "execution_count": 6,
   "metadata": {},
   "outputs": [
    {
     "data": {
      "text/html": [
       "<div>\n",
       "<style scoped>\n",
       "    .dataframe tbody tr th:only-of-type {\n",
       "        vertical-align: middle;\n",
       "    }\n",
       "\n",
       "    .dataframe tbody tr th {\n",
       "        vertical-align: top;\n",
       "    }\n",
       "\n",
       "    .dataframe thead th {\n",
       "        text-align: right;\n",
       "    }\n",
       "</style>\n",
       "<table border=\"1\" class=\"dataframe\">\n",
       "  <thead>\n",
       "    <tr style=\"text-align: right;\">\n",
       "      <th></th>\n",
       "      <th>time:timestamp</th>\n",
       "      <th>case:concept:name</th>\n",
       "      <th>concept:name</th>\n",
       "      <th>org:resource</th>\n",
       "      <th>next activity</th>\n",
       "    </tr>\n",
       "  </thead>\n",
       "  <tbody>\n",
       "    <tr>\n",
       "      <th>0</th>\n",
       "      <td>2012-10-09 14:50:17</td>\n",
       "      <td>Case 1</td>\n",
       "      <td>Assign-seriousness</td>\n",
       "      <td>Value 1</td>\n",
       "      <td>Take-in-charge-ticket</td>\n",
       "    </tr>\n",
       "    <tr>\n",
       "      <th>1</th>\n",
       "      <td>2012-10-09 14:51:01</td>\n",
       "      <td>Case 1</td>\n",
       "      <td>Take-in-charge-ticket</td>\n",
       "      <td>Value 1</td>\n",
       "      <td>Take-in-charge-ticket</td>\n",
       "    </tr>\n",
       "    <tr>\n",
       "      <th>2</th>\n",
       "      <td>2012-10-12 15:02:56</td>\n",
       "      <td>Case 1</td>\n",
       "      <td>Take-in-charge-ticket</td>\n",
       "      <td>Value 2</td>\n",
       "      <td>Resolve-ticket</td>\n",
       "    </tr>\n",
       "    <tr>\n",
       "      <th>3</th>\n",
       "      <td>2012-10-25 11:54:26</td>\n",
       "      <td>Case 1</td>\n",
       "      <td>Resolve-ticket</td>\n",
       "      <td>Value 1</td>\n",
       "      <td>Closed</td>\n",
       "    </tr>\n",
       "    <tr>\n",
       "      <th>4</th>\n",
       "      <td>2012-11-09 12:54:39</td>\n",
       "      <td>Case 1</td>\n",
       "      <td>Closed</td>\n",
       "      <td>Value 3</td>\n",
       "      <td>end</td>\n",
       "    </tr>\n",
       "    <tr>\n",
       "      <th>...</th>\n",
       "      <td>...</td>\n",
       "      <td>...</td>\n",
       "      <td>...</td>\n",
       "      <td>...</td>\n",
       "      <td>...</td>\n",
       "    </tr>\n",
       "    <tr>\n",
       "      <th>4611</th>\n",
       "      <td>2013-01-04 16:51:50</td>\n",
       "      <td>Case 998</td>\n",
       "      <td>Closed</td>\n",
       "      <td>Value 3</td>\n",
       "      <td>end</td>\n",
       "    </tr>\n",
       "    <tr>\n",
       "      <th>4612</th>\n",
       "      <td>2013-02-12 16:06:37</td>\n",
       "      <td>Case 999</td>\n",
       "      <td>Assign-seriousness</td>\n",
       "      <td>Value 1</td>\n",
       "      <td>Take-in-charge-ticket</td>\n",
       "    </tr>\n",
       "    <tr>\n",
       "      <th>4613</th>\n",
       "      <td>2013-02-25 11:37:20</td>\n",
       "      <td>Case 999</td>\n",
       "      <td>Take-in-charge-ticket</td>\n",
       "      <td>Value 12</td>\n",
       "      <td>Resolve-ticket</td>\n",
       "    </tr>\n",
       "    <tr>\n",
       "      <th>4614</th>\n",
       "      <td>2013-03-14 16:24:30</td>\n",
       "      <td>Case 999</td>\n",
       "      <td>Resolve-ticket</td>\n",
       "      <td>Value 12</td>\n",
       "      <td>Closed</td>\n",
       "    </tr>\n",
       "    <tr>\n",
       "      <th>4615</th>\n",
       "      <td>2013-03-29 16:24:45</td>\n",
       "      <td>Case 999</td>\n",
       "      <td>Closed</td>\n",
       "      <td>Value 3</td>\n",
       "      <td>end</td>\n",
       "    </tr>\n",
       "  </tbody>\n",
       "</table>\n",
       "<p>18809 rows × 5 columns</p>\n",
       "</div>"
      ],
      "text/plain": [
       "          time:timestamp case:concept:name           concept:name  \\\n",
       "0    2012-10-09 14:50:17            Case 1     Assign-seriousness   \n",
       "1    2012-10-09 14:51:01            Case 1  Take-in-charge-ticket   \n",
       "2    2012-10-12 15:02:56            Case 1  Take-in-charge-ticket   \n",
       "3    2012-10-25 11:54:26            Case 1         Resolve-ticket   \n",
       "4    2012-11-09 12:54:39            Case 1                 Closed   \n",
       "...                  ...               ...                    ...   \n",
       "4611 2013-01-04 16:51:50          Case 998                 Closed   \n",
       "4612 2013-02-12 16:06:37          Case 999     Assign-seriousness   \n",
       "4613 2013-02-25 11:37:20          Case 999  Take-in-charge-ticket   \n",
       "4614 2013-03-14 16:24:30          Case 999         Resolve-ticket   \n",
       "4615 2013-03-29 16:24:45          Case 999                 Closed   \n",
       "\n",
       "     org:resource          next activity  \n",
       "0         Value 1  Take-in-charge-ticket  \n",
       "1         Value 1  Take-in-charge-ticket  \n",
       "2         Value 2         Resolve-ticket  \n",
       "3         Value 1                 Closed  \n",
       "4         Value 3                    end  \n",
       "...           ...                    ...  \n",
       "4611      Value 3                    end  \n",
       "4612      Value 1  Take-in-charge-ticket  \n",
       "4613     Value 12         Resolve-ticket  \n",
       "4614     Value 12                 Closed  \n",
       "4615      Value 3                    end  \n",
       "\n",
       "[18809 rows x 5 columns]"
      ]
     },
     "execution_count": 6,
     "metadata": {},
     "output_type": "execute_result"
    }
   ],
   "source": [
    "#Create next activity for each event\n",
    "df_helpdesk_clean = next_activity(df_helpdesk_clean)\n",
    "df_helpdesk_clean"
   ]
  },
  {
   "cell_type": "code",
   "execution_count": 7,
   "metadata": {},
   "outputs": [
    {
     "name": "stderr",
     "output_type": "stream",
     "text": [
      "/Users/lars/Documents/Uni/Masterarbeit/Online_Process_Concept_Drift/src/features/preprocessing.py:52: FutureWarning: DataFrame.applymap has been deprecated. Use DataFrame.map instead.\n",
      "  new_df = df.applymap(lambda x: x.lower() if isinstance(x, str) else x)\n"
     ]
    },
    {
     "data": {
      "text/html": [
       "<div>\n",
       "<style scoped>\n",
       "    .dataframe tbody tr th:only-of-type {\n",
       "        vertical-align: middle;\n",
       "    }\n",
       "\n",
       "    .dataframe tbody tr th {\n",
       "        vertical-align: top;\n",
       "    }\n",
       "\n",
       "    .dataframe thead th {\n",
       "        text-align: right;\n",
       "    }\n",
       "</style>\n",
       "<table border=\"1\" class=\"dataframe\">\n",
       "  <thead>\n",
       "    <tr style=\"text-align: right;\">\n",
       "      <th></th>\n",
       "      <th>time:timestamp</th>\n",
       "      <th>case:concept:name</th>\n",
       "      <th>concept:name</th>\n",
       "      <th>org:resource</th>\n",
       "      <th>next activity</th>\n",
       "    </tr>\n",
       "  </thead>\n",
       "  <tbody>\n",
       "    <tr>\n",
       "      <th>0</th>\n",
       "      <td>2012-10-09 14:50:17</td>\n",
       "      <td>case 1</td>\n",
       "      <td>assign-seriousness</td>\n",
       "      <td>value 1</td>\n",
       "      <td>take-in-charge-ticket</td>\n",
       "    </tr>\n",
       "    <tr>\n",
       "      <th>1</th>\n",
       "      <td>2012-10-09 14:51:01</td>\n",
       "      <td>case 1</td>\n",
       "      <td>take-in-charge-ticket</td>\n",
       "      <td>value 1</td>\n",
       "      <td>take-in-charge-ticket</td>\n",
       "    </tr>\n",
       "    <tr>\n",
       "      <th>2</th>\n",
       "      <td>2012-10-12 15:02:56</td>\n",
       "      <td>case 1</td>\n",
       "      <td>take-in-charge-ticket</td>\n",
       "      <td>value 2</td>\n",
       "      <td>resolve-ticket</td>\n",
       "    </tr>\n",
       "    <tr>\n",
       "      <th>3</th>\n",
       "      <td>2012-10-25 11:54:26</td>\n",
       "      <td>case 1</td>\n",
       "      <td>resolve-ticket</td>\n",
       "      <td>value 1</td>\n",
       "      <td>closed</td>\n",
       "    </tr>\n",
       "    <tr>\n",
       "      <th>4</th>\n",
       "      <td>2012-11-09 12:54:39</td>\n",
       "      <td>case 1</td>\n",
       "      <td>closed</td>\n",
       "      <td>value 3</td>\n",
       "      <td>end</td>\n",
       "    </tr>\n",
       "  </tbody>\n",
       "</table>\n",
       "</div>"
      ],
      "text/plain": [
       "        time:timestamp case:concept:name           concept:name org:resource  \\\n",
       "0  2012-10-09 14:50:17            case 1     assign-seriousness      value 1   \n",
       "1  2012-10-09 14:51:01            case 1  take-in-charge-ticket      value 1   \n",
       "2  2012-10-12 15:02:56            case 1  take-in-charge-ticket      value 2   \n",
       "3  2012-10-25 11:54:26            case 1         resolve-ticket      value 1   \n",
       "4  2012-11-09 12:54:39            case 1                 closed      value 3   \n",
       "\n",
       "           next activity  \n",
       "0  take-in-charge-ticket  \n",
       "1  take-in-charge-ticket  \n",
       "2         resolve-ticket  \n",
       "3                 closed  \n",
       "4                    end  "
      ]
     },
     "execution_count": 7,
     "metadata": {},
     "output_type": "execute_result"
    }
   ],
   "source": [
    "#Convert df entries to string values and lowercase df\n",
    "\n",
    "df_helpdesk_converted = normalize_and_lowercase(df_helpdesk_clean)\n",
    "df_helpdesk_converted.head()"
   ]
  },
  {
   "cell_type": "code",
   "execution_count": 8,
   "metadata": {},
   "outputs": [],
   "source": [
    "#Generate prefix traces for each event\n",
    "prefix_traces = generate_prefix_traces(df_helpdesk_clean, \"time:timestamp\", \"case:concept:name\")"
   ]
  },
  {
   "cell_type": "code",
   "execution_count": 10,
   "metadata": {},
   "outputs": [
    {
     "data": {
      "text/html": [
       "<div>\n",
       "<style scoped>\n",
       "    .dataframe tbody tr th:only-of-type {\n",
       "        vertical-align: middle;\n",
       "    }\n",
       "\n",
       "    .dataframe tbody tr th {\n",
       "        vertical-align: top;\n",
       "    }\n",
       "\n",
       "    .dataframe thead th {\n",
       "        text-align: right;\n",
       "    }\n",
       "</style>\n",
       "<table border=\"1\" class=\"dataframe\">\n",
       "  <thead>\n",
       "    <tr style=\"text-align: right;\">\n",
       "      <th></th>\n",
       "      <th>Prefix_Trace</th>\n",
       "      <th>Next_Activity</th>\n",
       "    </tr>\n",
       "  </thead>\n",
       "  <tbody>\n",
       "    <tr>\n",
       "      <th>0</th>\n",
       "      <td>2012-10-09 14:50:17 case 1 assign-seriousness ...</td>\n",
       "      <td>take-in-charge-ticket</td>\n",
       "    </tr>\n",
       "    <tr>\n",
       "      <th>1</th>\n",
       "      <td>2012-10-09 14:50:17 2012-10-09 14:51:01 case 1...</td>\n",
       "      <td>take-in-charge-ticket</td>\n",
       "    </tr>\n",
       "    <tr>\n",
       "      <th>2</th>\n",
       "      <td>2012-10-09 14:50:17 2012-10-09 14:51:01 2012-1...</td>\n",
       "      <td>resolve-ticket</td>\n",
       "    </tr>\n",
       "    <tr>\n",
       "      <th>3</th>\n",
       "      <td>2012-10-09 14:50:17 2012-10-09 14:51:01 2012-1...</td>\n",
       "      <td>closed</td>\n",
       "    </tr>\n",
       "    <tr>\n",
       "      <th>4</th>\n",
       "      <td>2012-10-09 14:50:17 2012-10-09 14:51:01 2012-1...</td>\n",
       "      <td>None</td>\n",
       "    </tr>\n",
       "    <tr>\n",
       "      <th>...</th>\n",
       "      <td>...</td>\n",
       "      <td>...</td>\n",
       "    </tr>\n",
       "    <tr>\n",
       "      <th>18804</th>\n",
       "      <td>2012-11-30 11:57:13 2012-11-30 11:57:38 2012-1...</td>\n",
       "      <td>None</td>\n",
       "    </tr>\n",
       "    <tr>\n",
       "      <th>18805</th>\n",
       "      <td>2013-02-12 16:06:37 case 999 assign-seriousnes...</td>\n",
       "      <td>take-in-charge-ticket</td>\n",
       "    </tr>\n",
       "    <tr>\n",
       "      <th>18806</th>\n",
       "      <td>2013-02-12 16:06:37 2013-02-25 11:37:20 case 9...</td>\n",
       "      <td>resolve-ticket</td>\n",
       "    </tr>\n",
       "    <tr>\n",
       "      <th>18807</th>\n",
       "      <td>2013-02-12 16:06:37 2013-02-25 11:37:20 2013-0...</td>\n",
       "      <td>closed</td>\n",
       "    </tr>\n",
       "    <tr>\n",
       "      <th>18808</th>\n",
       "      <td>2013-02-12 16:06:37 2013-02-25 11:37:20 2013-0...</td>\n",
       "      <td>None</td>\n",
       "    </tr>\n",
       "  </tbody>\n",
       "</table>\n",
       "<p>18809 rows × 2 columns</p>\n",
       "</div>"
      ],
      "text/plain": [
       "                                            Prefix_Trace  \\\n",
       "0      2012-10-09 14:50:17 case 1 assign-seriousness ...   \n",
       "1      2012-10-09 14:50:17 2012-10-09 14:51:01 case 1...   \n",
       "2      2012-10-09 14:50:17 2012-10-09 14:51:01 2012-1...   \n",
       "3      2012-10-09 14:50:17 2012-10-09 14:51:01 2012-1...   \n",
       "4      2012-10-09 14:50:17 2012-10-09 14:51:01 2012-1...   \n",
       "...                                                  ...   \n",
       "18804  2012-11-30 11:57:13 2012-11-30 11:57:38 2012-1...   \n",
       "18805  2013-02-12 16:06:37 case 999 assign-seriousnes...   \n",
       "18806  2013-02-12 16:06:37 2013-02-25 11:37:20 case 9...   \n",
       "18807  2013-02-12 16:06:37 2013-02-25 11:37:20 2013-0...   \n",
       "18808  2013-02-12 16:06:37 2013-02-25 11:37:20 2013-0...   \n",
       "\n",
       "               Next_Activity  \n",
       "0      take-in-charge-ticket  \n",
       "1      take-in-charge-ticket  \n",
       "2             resolve-ticket  \n",
       "3                     closed  \n",
       "4                       None  \n",
       "...                      ...  \n",
       "18804                   None  \n",
       "18805  take-in-charge-ticket  \n",
       "18806         resolve-ticket  \n",
       "18807                 closed  \n",
       "18808                   None  \n",
       "\n",
       "[18809 rows x 2 columns]"
      ]
     },
     "execution_count": 10,
     "metadata": {},
     "output_type": "execute_result"
    }
   ],
   "source": [
    "#Create dataframe that contains sequentialized prefix traces and the corresponding next activity\n",
    "df_helpdesk_sequenzes = early_fusion(prefix_traces)\n",
    "df_helpdesk_sequenzes"
   ]
  },
  {
   "cell_type": "code",
   "execution_count": 10,
   "metadata": {},
   "outputs": [
    {
     "name": "stdout",
     "output_type": "stream",
     "text": [
      "2024-05-03_Helpdesk_next_activity.pkl has been saved.\n"
     ]
    }
   ],
   "source": [
    "#Save cleaned dataset with next activity\n",
    "save_event_log(df_helpdesk_sequenzes, \"Helpdesk\")"
   ]
  },
  {
   "cell_type": "code",
   "execution_count": 3,
   "metadata": {},
   "outputs": [
    {
     "name": "stdout",
     "output_type": "stream",
     "text": [
      "All dataset varibales are deleted\n",
      "Helpdesk loaded\n"
     ]
    },
    {
     "data": {
      "text/html": [
       "<div>\n",
       "<style scoped>\n",
       "    .dataframe tbody tr th:only-of-type {\n",
       "        vertical-align: middle;\n",
       "    }\n",
       "\n",
       "    .dataframe tbody tr th {\n",
       "        vertical-align: top;\n",
       "    }\n",
       "\n",
       "    .dataframe thead th {\n",
       "        text-align: right;\n",
       "    }\n",
       "</style>\n",
       "<table border=\"1\" class=\"dataframe\">\n",
       "  <thead>\n",
       "    <tr style=\"text-align: right;\">\n",
       "      <th></th>\n",
       "      <th>Prefix_Trace</th>\n",
       "      <th>Next_Activity</th>\n",
       "    </tr>\n",
       "  </thead>\n",
       "  <tbody>\n",
       "    <tr>\n",
       "      <th>0</th>\n",
       "      <td>2012-10-09 14:50:17 case 1 assign-seriousness ...</td>\n",
       "      <td>take-in-charge-ticket</td>\n",
       "    </tr>\n",
       "    <tr>\n",
       "      <th>1</th>\n",
       "      <td>2012-10-09 14:50:17 2012-10-09 14:51:01 case 1...</td>\n",
       "      <td>take-in-charge-ticket</td>\n",
       "    </tr>\n",
       "    <tr>\n",
       "      <th>2</th>\n",
       "      <td>2012-10-09 14:50:17 2012-10-09 14:51:01 2012-1...</td>\n",
       "      <td>resolve-ticket</td>\n",
       "    </tr>\n",
       "    <tr>\n",
       "      <th>3</th>\n",
       "      <td>2012-10-09 14:50:17 2012-10-09 14:51:01 2012-1...</td>\n",
       "      <td>closed</td>\n",
       "    </tr>\n",
       "    <tr>\n",
       "      <th>4</th>\n",
       "      <td>2012-10-09 14:50:17 2012-10-09 14:51:01 2012-1...</td>\n",
       "      <td>None</td>\n",
       "    </tr>\n",
       "  </tbody>\n",
       "</table>\n",
       "</div>"
      ],
      "text/plain": [
       "                                        Prefix_Trace          Next_Activity\n",
       "0  2012-10-09 14:50:17 case 1 assign-seriousness ...  take-in-charge-ticket\n",
       "1  2012-10-09 14:50:17 2012-10-09 14:51:01 case 1...  take-in-charge-ticket\n",
       "2  2012-10-09 14:50:17 2012-10-09 14:51:01 2012-1...         resolve-ticket\n",
       "3  2012-10-09 14:50:17 2012-10-09 14:51:01 2012-1...                 closed\n",
       "4  2012-10-09 14:50:17 2012-10-09 14:51:01 2012-1...                   None"
      ]
     },
     "execution_count": 3,
     "metadata": {},
     "output_type": "execute_result"
    }
   ],
   "source": [
    "#Delete all dataset variables\n",
    "delete_dataframes()\n",
    "\n",
    "#Load most current dataset\n",
    "df_helpdesk=load_event_log(\"Helpdesk\")\n",
    "df_helpdesk.head()"
   ]
  },
  {
   "cell_type": "code",
   "execution_count": 4,
   "metadata": {},
   "outputs": [
    {
     "data": {
      "text/plain": [
       "'2012-10-09 14:50:17 2012-10-09 14:51:01 2012-10-12 15:02:56 case 1 case 1 case 1 assign-seriousness take-in-charge-ticket take-in-charge-ticket value 1 value 1 value 2 take-in-charge-ticket take-in-charge-ticket resolve-ticket'"
      ]
     },
     "execution_count": 4,
     "metadata": {},
     "output_type": "execute_result"
    }
   ],
   "source": [
    "df_helpdesk['Prefix_Trace'][2]"
   ]
  },
  {
   "cell_type": "markdown",
   "metadata": {},
   "source": [
    "## Testing"
   ]
  },
  {
   "cell_type": "code",
   "execution_count": 5,
   "metadata": {},
   "outputs": [],
   "source": [
    "from transformers import BertTokenizer"
   ]
  },
  {
   "cell_type": "code",
   "execution_count": 6,
   "metadata": {},
   "outputs": [
    {
     "name": "stderr",
     "output_type": "stream",
     "text": [
      "/Users/lars/Documents/Uni/Masterarbeit/Online_Process_Concept_Drift/venv/lib/python3.10/site-packages/huggingface_hub/file_download.py:1132: FutureWarning: `resume_download` is deprecated and will be removed in version 1.0.0. Downloads always resume when possible. If you want to force a new download, use `force_download=True`.\n",
      "  warnings.warn(\n"
     ]
    }
   ],
   "source": [
    "tokenizer = BertTokenizer.from_pretrained(\"bert-base-uncased\")\n",
    "tokenized_text = df_helpdesk[\"Prefix_Trace\"].apply(lambda x:tokenizer.encode(x, add_special_tokens=True))"
   ]
  },
  {
   "cell_type": "code",
   "execution_count": 7,
   "metadata": {},
   "outputs": [],
   "source": [
    "# Get unique labels from the 'label' column\n",
    "unique_labels = df_helpdesk['Next_Activity'].unique()\n",
    "# Create label map using dictionary comprehension\n",
    "label_map = {label: index for index, label in enumerate(unique_labels)}\n",
    "encoded_labels = df_helpdesk['Next_Activity'].map(label_map)\n"
   ]
  },
  {
   "cell_type": "code",
   "execution_count": 10,
   "metadata": {},
   "outputs": [
    {
     "data": {
      "text/plain": [
       "{'take-in-charge-ticket': 0,\n",
       " 'resolve-ticket': 1,\n",
       " 'closed': 2,\n",
       " None: 3,\n",
       " 'require-upgrade': 4,\n",
       " 'assign-seriousness': 5,\n",
       " 'wait': 6,\n",
       " 'create-sw-anomaly': 7,\n",
       " 'end': 8,\n",
       " 'schedule-intervention': 9,\n",
       " 'resolve-sw-anomaly': 10}"
      ]
     },
     "execution_count": 10,
     "metadata": {},
     "output_type": "execute_result"
    }
   ],
   "source": [
    "label_map"
   ]
  },
  {
   "cell_type": "code",
   "execution_count": 11,
   "metadata": {},
   "outputs": [],
   "source": [
    "max_length = max(len(seq) for seq in tokenized_text)\n",
    "\n",
    "# Pad tokenized sequences\n",
    "padded_sequences = tf.keras.preprocessing.sequence.pad_sequences(tokenized_text, padding='post', maxlen=max_length)"
   ]
  },
  {
   "cell_type": "code",
   "execution_count": 12,
   "metadata": {},
   "outputs": [
    {
     "data": {
      "text/plain": [
       "array([[ 101, 2262, 1011, ...,    0,    0,    0],\n",
       "       [ 101, 2262, 1011, ...,    0,    0,    0],\n",
       "       [ 101, 2262, 1011, ...,    0,    0,    0],\n",
       "       ...,\n",
       "       [ 101, 2286, 1011, ...,    0,    0,    0],\n",
       "       [ 101, 2286, 1011, ...,    0,    0,    0],\n",
       "       [ 101, 2286, 1011, ...,    0,    0,    0]], dtype=int32)"
      ]
     },
     "execution_count": 12,
     "metadata": {},
     "output_type": "execute_result"
    }
   ],
   "source": [
    "padded_sequences"
   ]
  },
  {
   "cell_type": "code",
   "execution_count": null,
   "metadata": {},
   "outputs": [],
   "source": []
  }
 ],
 "metadata": {
  "kernelspec": {
   "display_name": "base",
   "language": "python",
   "name": "python3"
  },
  "language_info": {
   "codemirror_mode": {
    "name": "ipython",
    "version": 3
   },
   "file_extension": ".py",
   "mimetype": "text/x-python",
   "name": "python",
   "nbconvert_exporter": "python",
   "pygments_lexer": "ipython3",
   "version": "3.10.2"
  }
 },
 "nbformat": 4,
 "nbformat_minor": 2
}
