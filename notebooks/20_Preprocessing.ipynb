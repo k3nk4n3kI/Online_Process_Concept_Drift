{
 "cells": [
  {
   "cell_type": "markdown",
   "metadata": {},
   "source": [
    "# **Preprocessing of Datasets**"
   ]
  },
  {
   "cell_type": "markdown",
   "metadata": {},
   "source": [
    "#### Set path variables and import functions"
   ]
  },
  {
   "cell_type": "code",
   "execution_count": 1,
   "metadata": {},
   "outputs": [],
   "source": [
    "# Append the directory containing the src folder to sys.path\n",
    "import sys\n",
    "\n",
    "sys.path.append('/Users/lars/Documents/Uni/Masterarbeit/Online_Process_Concept_Drift')"
   ]
  },
  {
   "cell_type": "code",
   "execution_count": 2,
   "metadata": {},
   "outputs": [],
   "source": [
    "#Path variables for datasets\n",
    "directory = \"/Users/lars/Documents/Uni/Masterarbeit/Online_Process_Concept_Drift\"\n",
    "path_raw = \"/data/raw/\"\n",
    "path_interim = \"/data/interim/\"\n",
    "path_processed = \"/data/processed/\""
   ]
  },
  {
   "cell_type": "code",
   "execution_count": 3,
   "metadata": {},
   "outputs": [
    {
     "name": "stderr",
     "output_type": "stream",
     "text": [
      "/Users/lars/Documents/test/venv/lib/python3.10/site-packages/tqdm/auto.py:21: TqdmWarning: IProgress not found. Please update jupyter and ipywidgets. See https://ipywidgets.readthedocs.io/en/stable/user_install.html\n",
      "  from .autonotebook import tqdm as notebook_tqdm\n"
     ]
    }
   ],
   "source": [
    "#Load package and functions to notebook\n",
    "from src.data.data_manager import data_loader, save_event_log, delete_dataframes\n",
    "from src.data.data_generator import next_activity\n",
    "from src.features.preprocessing import outliers, missing_values, normalize_and_lowercase, generate_prefix_traces, early_fusion, create_multiindex, split_data"
   ]
  },
  {
   "cell_type": "markdown",
   "metadata": {},
   "source": [
    "### ----------------------------------------------------------\n",
    "### Start of preprocessing"
   ]
  },
  {
   "cell_type": "markdown",
   "metadata": {},
   "source": [
    "**Steps**\n",
    "\n",
    "1. Order events by timestamp\n",
    "2. Missing values\n",
    "3. Outlier detection (IQR)\n",
    "4. Convert numerical data to str\n",
    "5. Earliy fusion approach\n",
    "6. Tokenization\n",
    "7. Padding\n",
    "8. BERT feature encoder\n",
    "9. Train/Val/Test split"
   ]
  },
  {
   "cell_type": "markdown",
   "metadata": {},
   "source": [
    "**Load specific dataset into enviroment**"
   ]
  },
  {
   "cell_type": "code",
   "execution_count": 49,
   "metadata": {},
   "outputs": [
    {
     "name": "stderr",
     "output_type": "stream",
     "text": [
      "parsing log, completed traces :: 100%|██████████| 43809/43809 [01:47<00:00, 407.82it/s]\n"
     ]
    },
    {
     "name": "stdout",
     "output_type": "stream",
     "text": [
      "<class 'pandas.core.frame.DataFrame'>\n",
      "Index: 2514266 entries, 136988 to 317373\n",
      "Data columns (total 4 columns):\n",
      " #   Column             Dtype \n",
      "---  ------             ----- \n",
      " 0   time:timestamp     object\n",
      " 1   case:concept:name  object\n",
      " 2   concept:name       object\n",
      " 3   org:resource       object\n",
      "dtypes: object(4)\n",
      "memory usage: 95.9+ MB\n"
     ]
    }
   ],
   "source": [
    "#Loads dataset and orders it by time and case\n",
    "df = data_loader(directory, path_raw, \"BPI_Challenge_2018.xes\" , columns=[\"Complete Timestamp\", \"Case ID\", \"Activity\", \"Resource\"])\n",
    "df.info()\n"
   ]
  },
  {
   "cell_type": "markdown",
   "metadata": {},
   "source": [
    "**Clean dataset**"
   ]
  },
  {
   "cell_type": "code",
   "execution_count": 63,
   "metadata": {},
   "outputs": [
    {
     "data": {
      "text/html": [
       "<div>\n",
       "<style scoped>\n",
       "    .dataframe tbody tr th:only-of-type {\n",
       "        vertical-align: middle;\n",
       "    }\n",
       "\n",
       "    .dataframe tbody tr th {\n",
       "        vertical-align: top;\n",
       "    }\n",
       "\n",
       "    .dataframe thead th {\n",
       "        text-align: right;\n",
       "    }\n",
       "</style>\n",
       "<table border=\"1\" class=\"dataframe\">\n",
       "  <thead>\n",
       "    <tr style=\"text-align: right;\">\n",
       "      <th></th>\n",
       "      <th>time:timestamp</th>\n",
       "      <th>case:concept:name</th>\n",
       "      <th>concept:name</th>\n",
       "      <th>org:resource</th>\n",
       "    </tr>\n",
       "  </thead>\n",
       "  <tbody>\n",
       "    <tr>\n",
       "      <th>136988</th>\n",
       "      <td>2015-04-28 00:00:00</td>\n",
       "      <td>0002505cb62792e4</td>\n",
       "      <td>mail income</td>\n",
       "      <td>0;n/a</td>\n",
       "    </tr>\n",
       "    <tr>\n",
       "      <th>136989</th>\n",
       "      <td>2015-05-04 00:00:00</td>\n",
       "      <td>0002505cb62792e4</td>\n",
       "      <td>mail valid</td>\n",
       "      <td>0;n/a</td>\n",
       "    </tr>\n",
       "    <tr>\n",
       "      <th>136990</th>\n",
       "      <td>2015-05-04 00:00:00</td>\n",
       "      <td>0002505cb62792e4</td>\n",
       "      <td>mail valid</td>\n",
       "      <td>0;n/a</td>\n",
       "    </tr>\n",
       "    <tr>\n",
       "      <th>136991</th>\n",
       "      <td>2015-05-04 00:00:00</td>\n",
       "      <td>0002505cb62792e4</td>\n",
       "      <td>mail valid</td>\n",
       "      <td>0;n/a</td>\n",
       "    </tr>\n",
       "    <tr>\n",
       "      <th>136992</th>\n",
       "      <td>2015-06-12 11:50:18</td>\n",
       "      <td>0002505cb62792e4</td>\n",
       "      <td>initialize</td>\n",
       "      <td>Document processing automaton</td>\n",
       "    </tr>\n",
       "    <tr>\n",
       "      <th>...</th>\n",
       "      <td>...</td>\n",
       "      <td>...</td>\n",
       "      <td>...</td>\n",
       "      <td>...</td>\n",
       "    </tr>\n",
       "    <tr>\n",
       "      <th>317369</th>\n",
       "      <td>2017-04-25 14:06:50</td>\n",
       "      <td>fffadf8d083df3d5</td>\n",
       "      <td>begin editing</td>\n",
       "      <td>f9fe07</td>\n",
       "    </tr>\n",
       "    <tr>\n",
       "      <th>317370</th>\n",
       "      <td>2017-04-25 14:06:57</td>\n",
       "      <td>fffadf8d083df3d5</td>\n",
       "      <td>calculate</td>\n",
       "      <td>f9fe07</td>\n",
       "    </tr>\n",
       "    <tr>\n",
       "      <th>317371</th>\n",
       "      <td>2017-04-25 14:07:08</td>\n",
       "      <td>fffadf8d083df3d5</td>\n",
       "      <td>remove document</td>\n",
       "      <td>f9fe07</td>\n",
       "    </tr>\n",
       "    <tr>\n",
       "      <th>317372</th>\n",
       "      <td>2017-04-25 14:07:14</td>\n",
       "      <td>fffadf8d083df3d5</td>\n",
       "      <td>insert document</td>\n",
       "      <td>f9fe07</td>\n",
       "    </tr>\n",
       "    <tr>\n",
       "      <th>317373</th>\n",
       "      <td>2017-04-25 14:07:21</td>\n",
       "      <td>fffadf8d083df3d5</td>\n",
       "      <td>save</td>\n",
       "      <td>f9fe07</td>\n",
       "    </tr>\n",
       "  </tbody>\n",
       "</table>\n",
       "<p>2514266 rows × 4 columns</p>\n",
       "</div>"
      ],
      "text/plain": [
       "             time:timestamp case:concept:name     concept:name  \\\n",
       "136988  2015-04-28 00:00:00  0002505cb62792e4      mail income   \n",
       "136989  2015-05-04 00:00:00  0002505cb62792e4       mail valid   \n",
       "136990  2015-05-04 00:00:00  0002505cb62792e4       mail valid   \n",
       "136991  2015-05-04 00:00:00  0002505cb62792e4       mail valid   \n",
       "136992  2015-06-12 11:50:18  0002505cb62792e4       initialize   \n",
       "...                     ...               ...              ...   \n",
       "317369  2017-04-25 14:06:50  fffadf8d083df3d5    begin editing   \n",
       "317370  2017-04-25 14:06:57  fffadf8d083df3d5        calculate   \n",
       "317371  2017-04-25 14:07:08  fffadf8d083df3d5  remove document   \n",
       "317372  2017-04-25 14:07:14  fffadf8d083df3d5  insert document   \n",
       "317373  2017-04-25 14:07:21  fffadf8d083df3d5             save   \n",
       "\n",
       "                         org:resource  \n",
       "136988                          0;n/a  \n",
       "136989                          0;n/a  \n",
       "136990                          0;n/a  \n",
       "136991                          0;n/a  \n",
       "136992  Document processing automaton  \n",
       "...                               ...  \n",
       "317369                         f9fe07  \n",
       "317370                         f9fe07  \n",
       "317371                         f9fe07  \n",
       "317372                         f9fe07  \n",
       "317373                         f9fe07  \n",
       "\n",
       "[2514266 rows x 4 columns]"
      ]
     },
     "execution_count": 63,
     "metadata": {},
     "output_type": "execute_result"
    }
   ],
   "source": [
    "df"
   ]
  },
  {
   "cell_type": "code",
   "execution_count": 51,
   "metadata": {},
   "outputs": [
    {
     "data": {
      "text/plain": [
       "41"
      ]
     },
     "execution_count": 51,
     "metadata": {},
     "output_type": "execute_result"
    }
   ],
   "source": [
    "df['concept:name'].nunique()"
   ]
  },
  {
   "cell_type": "code",
   "execution_count": 7,
   "metadata": {},
   "outputs": [
    {
     "name": "stdout",
     "output_type": "stream",
     "text": [
      "File saved as 2024-06-07_Helpdesk_next_activity.pkl\n"
     ]
    }
   ],
   "source": [
    "#Save dataset as pkl file for faster processing\n",
    "\n",
    "save_event_log(directory, path_interim, df, \"Helpdesk\")"
   ]
  },
  {
   "cell_type": "code",
   "execution_count": 8,
   "metadata": {},
   "outputs": [],
   "source": [
    "df = data_loader(directory, path_interim, \"Helpdesk\")"
   ]
  },
  {
   "cell_type": "code",
   "execution_count": 74,
   "metadata": {},
   "outputs": [
    {
     "data": {
      "text/html": [
       "<div>\n",
       "<style scoped>\n",
       "    .dataframe tbody tr th:only-of-type {\n",
       "        vertical-align: middle;\n",
       "    }\n",
       "\n",
       "    .dataframe tbody tr th {\n",
       "        vertical-align: top;\n",
       "    }\n",
       "\n",
       "    .dataframe thead th {\n",
       "        text-align: right;\n",
       "    }\n",
       "</style>\n",
       "<table border=\"1\" class=\"dataframe\">\n",
       "  <thead>\n",
       "    <tr style=\"text-align: right;\">\n",
       "      <th></th>\n",
       "      <th>time:timestamp</th>\n",
       "      <th>case:concept:name</th>\n",
       "      <th>concept:name</th>\n",
       "      <th>org:resource</th>\n",
       "    </tr>\n",
       "  </thead>\n",
       "  <tbody>\n",
       "    <tr>\n",
       "      <th>136988</th>\n",
       "      <td>2015-04-28 00:00:00</td>\n",
       "      <td>0002505cb62792e4</td>\n",
       "      <td>mail income</td>\n",
       "      <td>0;n/a</td>\n",
       "    </tr>\n",
       "    <tr>\n",
       "      <th>136989</th>\n",
       "      <td>2015-05-04 00:00:00</td>\n",
       "      <td>0002505cb62792e4</td>\n",
       "      <td>mail valid</td>\n",
       "      <td>0;n/a</td>\n",
       "    </tr>\n",
       "    <tr>\n",
       "      <th>136990</th>\n",
       "      <td>2015-05-04 00:00:00</td>\n",
       "      <td>0002505cb62792e4</td>\n",
       "      <td>mail valid</td>\n",
       "      <td>0;n/a</td>\n",
       "    </tr>\n",
       "    <tr>\n",
       "      <th>136991</th>\n",
       "      <td>2015-05-04 00:00:00</td>\n",
       "      <td>0002505cb62792e4</td>\n",
       "      <td>mail valid</td>\n",
       "      <td>0;n/a</td>\n",
       "    </tr>\n",
       "    <tr>\n",
       "      <th>136992</th>\n",
       "      <td>2015-06-12 11:50:18</td>\n",
       "      <td>0002505cb62792e4</td>\n",
       "      <td>initialize</td>\n",
       "      <td>Document processing automaton</td>\n",
       "    </tr>\n",
       "    <tr>\n",
       "      <th>...</th>\n",
       "      <td>...</td>\n",
       "      <td>...</td>\n",
       "      <td>...</td>\n",
       "      <td>...</td>\n",
       "    </tr>\n",
       "    <tr>\n",
       "      <th>317369</th>\n",
       "      <td>2017-04-25 14:06:50</td>\n",
       "      <td>fffadf8d083df3d5</td>\n",
       "      <td>begin editing</td>\n",
       "      <td>f9fe07</td>\n",
       "    </tr>\n",
       "    <tr>\n",
       "      <th>317370</th>\n",
       "      <td>2017-04-25 14:06:57</td>\n",
       "      <td>fffadf8d083df3d5</td>\n",
       "      <td>calculate</td>\n",
       "      <td>f9fe07</td>\n",
       "    </tr>\n",
       "    <tr>\n",
       "      <th>317371</th>\n",
       "      <td>2017-04-25 14:07:08</td>\n",
       "      <td>fffadf8d083df3d5</td>\n",
       "      <td>remove document</td>\n",
       "      <td>f9fe07</td>\n",
       "    </tr>\n",
       "    <tr>\n",
       "      <th>317372</th>\n",
       "      <td>2017-04-25 14:07:14</td>\n",
       "      <td>fffadf8d083df3d5</td>\n",
       "      <td>insert document</td>\n",
       "      <td>f9fe07</td>\n",
       "    </tr>\n",
       "    <tr>\n",
       "      <th>317373</th>\n",
       "      <td>2017-04-25 14:07:21</td>\n",
       "      <td>fffadf8d083df3d5</td>\n",
       "      <td>save</td>\n",
       "      <td>f9fe07</td>\n",
       "    </tr>\n",
       "  </tbody>\n",
       "</table>\n",
       "<p>2514266 rows × 4 columns</p>\n",
       "</div>"
      ],
      "text/plain": [
       "             time:timestamp case:concept:name     concept:name  \\\n",
       "136988  2015-04-28 00:00:00  0002505cb62792e4      mail income   \n",
       "136989  2015-05-04 00:00:00  0002505cb62792e4       mail valid   \n",
       "136990  2015-05-04 00:00:00  0002505cb62792e4       mail valid   \n",
       "136991  2015-05-04 00:00:00  0002505cb62792e4       mail valid   \n",
       "136992  2015-06-12 11:50:18  0002505cb62792e4       initialize   \n",
       "...                     ...               ...              ...   \n",
       "317369  2017-04-25 14:06:50  fffadf8d083df3d5    begin editing   \n",
       "317370  2017-04-25 14:06:57  fffadf8d083df3d5        calculate   \n",
       "317371  2017-04-25 14:07:08  fffadf8d083df3d5  remove document   \n",
       "317372  2017-04-25 14:07:14  fffadf8d083df3d5  insert document   \n",
       "317373  2017-04-25 14:07:21  fffadf8d083df3d5             save   \n",
       "\n",
       "                         org:resource  \n",
       "136988                          0;n/a  \n",
       "136989                          0;n/a  \n",
       "136990                          0;n/a  \n",
       "136991                          0;n/a  \n",
       "136992  Document processing automaton  \n",
       "...                               ...  \n",
       "317369                         f9fe07  \n",
       "317370                         f9fe07  \n",
       "317371                         f9fe07  \n",
       "317372                         f9fe07  \n",
       "317373                         f9fe07  \n",
       "\n",
       "[2514266 rows x 4 columns]"
      ]
     },
     "execution_count": 74,
     "metadata": {},
     "output_type": "execute_result"
    }
   ],
   "source": [
    "df"
   ]
  },
  {
   "cell_type": "code",
   "execution_count": 38,
   "metadata": {},
   "outputs": [],
   "source": [
    "def outliers2(dataframe, case_column):\n",
    "\n",
    "    event_counts = dataframe[case_column].value_counts()\n",
    "\n",
    "    #Calculate quantiles\n",
    "    Q3 = event_counts.quantile(0.75)\n",
    "    Q1 = event_counts.quantile(0.25)\n",
    "\n",
    "    #Calculate IQR\n",
    "    IQR = Q3 - Q1\n",
    "\n",
    "    #Calculate uper bound\n",
    "    upper_bound = Q3 + 1.5 * IQR\n",
    "\n",
    "    #Filter cases\n",
    "    filtered_event_log = dataframe[dataframe[case_column].isin(event_counts[(event_counts <= upper_bound) & (event_counts >1)].index)]\n",
    "\n",
    "    return filtered_event_log"
   ]
  },
  {
   "cell_type": "code",
   "execution_count": 75,
   "metadata": {},
   "outputs": [],
   "source": [
    "#To get dataframe short\n",
    "\n",
    "# Remove missing values\n",
    "df_clean = missing_values(df, \"case:concept:name\")\n",
    "\n",
    "df_clean = outliers(df_clean, \"case:concept:name\")"
   ]
  },
  {
   "cell_type": "code",
   "execution_count": 53,
   "metadata": {},
   "outputs": [],
   "source": [
    "#To get dataframe long\n",
    "\n",
    "# Remove missing values\n",
    "df_clean = missing_values(df, \"case:concept:name\")\n",
    "\n",
    "#Delete Outliers (IQR)\n",
    "df_clean = outliers2(df_clean, \"case:concept:name\")"
   ]
  },
  {
   "cell_type": "code",
   "execution_count": 76,
   "metadata": {},
   "outputs": [
    {
     "data": {
      "text/html": [
       "<div>\n",
       "<style scoped>\n",
       "    .dataframe tbody tr th:only-of-type {\n",
       "        vertical-align: middle;\n",
       "    }\n",
       "\n",
       "    .dataframe tbody tr th {\n",
       "        vertical-align: top;\n",
       "    }\n",
       "\n",
       "    .dataframe thead th {\n",
       "        text-align: right;\n",
       "    }\n",
       "</style>\n",
       "<table border=\"1\" class=\"dataframe\">\n",
       "  <thead>\n",
       "    <tr style=\"text-align: right;\">\n",
       "      <th></th>\n",
       "      <th>time:timestamp</th>\n",
       "      <th>case:concept:name</th>\n",
       "      <th>concept:name</th>\n",
       "      <th>org:resource</th>\n",
       "    </tr>\n",
       "  </thead>\n",
       "  <tbody>\n",
       "    <tr>\n",
       "      <th>136988</th>\n",
       "      <td>2015-04-28 00:00:00</td>\n",
       "      <td>0002505cb62792e4</td>\n",
       "      <td>mail-income</td>\n",
       "      <td>0;n/a</td>\n",
       "    </tr>\n",
       "    <tr>\n",
       "      <th>136989</th>\n",
       "      <td>2015-05-04 00:00:00</td>\n",
       "      <td>0002505cb62792e4</td>\n",
       "      <td>mail-valid</td>\n",
       "      <td>0;n/a</td>\n",
       "    </tr>\n",
       "    <tr>\n",
       "      <th>136990</th>\n",
       "      <td>2015-05-04 00:00:00</td>\n",
       "      <td>0002505cb62792e4</td>\n",
       "      <td>mail-valid</td>\n",
       "      <td>0;n/a</td>\n",
       "    </tr>\n",
       "    <tr>\n",
       "      <th>136991</th>\n",
       "      <td>2015-05-04 00:00:00</td>\n",
       "      <td>0002505cb62792e4</td>\n",
       "      <td>mail-valid</td>\n",
       "      <td>0;n/a</td>\n",
       "    </tr>\n",
       "    <tr>\n",
       "      <th>136992</th>\n",
       "      <td>2015-06-12 11:50:18</td>\n",
       "      <td>0002505cb62792e4</td>\n",
       "      <td>initialize</td>\n",
       "      <td>Document processing automaton</td>\n",
       "    </tr>\n",
       "  </tbody>\n",
       "</table>\n",
       "</div>"
      ],
      "text/plain": [
       "             time:timestamp case:concept:name concept:name  \\\n",
       "136988  2015-04-28 00:00:00  0002505cb62792e4  mail-income   \n",
       "136989  2015-05-04 00:00:00  0002505cb62792e4   mail-valid   \n",
       "136990  2015-05-04 00:00:00  0002505cb62792e4   mail-valid   \n",
       "136991  2015-05-04 00:00:00  0002505cb62792e4   mail-valid   \n",
       "136992  2015-06-12 11:50:18  0002505cb62792e4   initialize   \n",
       "\n",
       "                         org:resource  \n",
       "136988                          0;n/a  \n",
       "136989                          0;n/a  \n",
       "136990                          0;n/a  \n",
       "136991                          0;n/a  \n",
       "136992  Document processing automaton  "
      ]
     },
     "execution_count": 76,
     "metadata": {},
     "output_type": "execute_result"
    }
   ],
   "source": [
    "df_clean.head()"
   ]
  },
  {
   "cell_type": "code",
   "execution_count": 77,
   "metadata": {},
   "outputs": [
    {
     "name": "stdout",
     "output_type": "stream",
     "text": [
      "\n",
      "99.99% quantile: 79.0\n",
      "99% quantile: 77.0\n",
      "95% quantile: 71.0\n",
      "75% quantile: 55.0\n",
      "50% quantile: 49.0\n",
      "25% quantile: 43.0\n"
     ]
    }
   ],
   "source": [
    "import numpy as np\n",
    "\n",
    "#Displays new quantil ranges for checking\n",
    "grouped_activities_df = df_clean.groupby('case:concept:name')['concept:name'].apply(list)\n",
    "\n",
    "trace_length_df = list()\n",
    "\n",
    "for i in grouped_activities_df:\n",
    "    trace_length_df.append(len(i))\n",
    "\n",
    "trace_length_df_array = np.array(trace_length_df)\n",
    "\n",
    "print(\"\\n99.99% quantile: {}\".format(np.quantile(trace_length_df_array, 0.9999)))\n",
    "print(\"99% quantile: {}\".format(np.quantile(trace_length_df_array, 0.99)))\n",
    "print(\"95% quantile: {}\".format(np.quantile(trace_length_df_array, 0.95)))\n",
    "print(\"75% quantile: {}\".format(np.quantile(trace_length_df_array, 0.75)))\n",
    "print(\"50% quantile: {}\".format(np.quantile(trace_length_df_array, 0.5)))\n",
    "print(\"25% quantile: {}\".format(np.quantile(trace_length_df_array, 0.25)))"
   ]
  },
  {
   "cell_type": "markdown",
   "metadata": {},
   "source": [
    "**Create next activity column**"
   ]
  },
  {
   "cell_type": "code",
   "execution_count": 78,
   "metadata": {},
   "outputs": [
    {
     "data": {
      "text/html": [
       "<div>\n",
       "<style scoped>\n",
       "    .dataframe tbody tr th:only-of-type {\n",
       "        vertical-align: middle;\n",
       "    }\n",
       "\n",
       "    .dataframe tbody tr th {\n",
       "        vertical-align: top;\n",
       "    }\n",
       "\n",
       "    .dataframe thead th {\n",
       "        text-align: right;\n",
       "    }\n",
       "</style>\n",
       "<table border=\"1\" class=\"dataframe\">\n",
       "  <thead>\n",
       "    <tr style=\"text-align: right;\">\n",
       "      <th></th>\n",
       "      <th>case:concept:name</th>\n",
       "      <th>time:timestamp</th>\n",
       "      <th>concept:name</th>\n",
       "      <th>org:resource</th>\n",
       "      <th>next activity</th>\n",
       "    </tr>\n",
       "  </thead>\n",
       "  <tbody>\n",
       "    <tr>\n",
       "      <th>136988</th>\n",
       "      <td>0002505cb62792e4</td>\n",
       "      <td>2015-04-28 00:00:00</td>\n",
       "      <td>mail-income</td>\n",
       "      <td>0;n/a</td>\n",
       "      <td>mail-valid</td>\n",
       "    </tr>\n",
       "    <tr>\n",
       "      <th>136989</th>\n",
       "      <td>0002505cb62792e4</td>\n",
       "      <td>2015-05-04 00:00:00</td>\n",
       "      <td>mail-valid</td>\n",
       "      <td>0;n/a</td>\n",
       "      <td>mail-valid</td>\n",
       "    </tr>\n",
       "    <tr>\n",
       "      <th>136990</th>\n",
       "      <td>0002505cb62792e4</td>\n",
       "      <td>2015-05-04 00:00:00</td>\n",
       "      <td>mail-valid</td>\n",
       "      <td>0;n/a</td>\n",
       "      <td>mail-valid</td>\n",
       "    </tr>\n",
       "    <tr>\n",
       "      <th>136991</th>\n",
       "      <td>0002505cb62792e4</td>\n",
       "      <td>2015-05-04 00:00:00</td>\n",
       "      <td>mail-valid</td>\n",
       "      <td>0;n/a</td>\n",
       "      <td>initialize</td>\n",
       "    </tr>\n",
       "    <tr>\n",
       "      <th>136992</th>\n",
       "      <td>0002505cb62792e4</td>\n",
       "      <td>2015-06-12 11:50:18</td>\n",
       "      <td>initialize</td>\n",
       "      <td>Document processing automaton</td>\n",
       "      <td>begin-editing</td>\n",
       "    </tr>\n",
       "    <tr>\n",
       "      <th>...</th>\n",
       "      <td>...</td>\n",
       "      <td>...</td>\n",
       "      <td>...</td>\n",
       "      <td>...</td>\n",
       "      <td>...</td>\n",
       "    </tr>\n",
       "    <tr>\n",
       "      <th>317369</th>\n",
       "      <td>fffadf8d083df3d5</td>\n",
       "      <td>2017-04-25 14:06:50</td>\n",
       "      <td>begin-editing</td>\n",
       "      <td>f9fe07</td>\n",
       "      <td>calculate</td>\n",
       "    </tr>\n",
       "    <tr>\n",
       "      <th>317370</th>\n",
       "      <td>fffadf8d083df3d5</td>\n",
       "      <td>2017-04-25 14:06:57</td>\n",
       "      <td>calculate</td>\n",
       "      <td>f9fe07</td>\n",
       "      <td>remove-document</td>\n",
       "    </tr>\n",
       "    <tr>\n",
       "      <th>317371</th>\n",
       "      <td>fffadf8d083df3d5</td>\n",
       "      <td>2017-04-25 14:07:08</td>\n",
       "      <td>remove-document</td>\n",
       "      <td>f9fe07</td>\n",
       "      <td>insert-document</td>\n",
       "    </tr>\n",
       "    <tr>\n",
       "      <th>317372</th>\n",
       "      <td>fffadf8d083df3d5</td>\n",
       "      <td>2017-04-25 14:07:14</td>\n",
       "      <td>insert-document</td>\n",
       "      <td>f9fe07</td>\n",
       "      <td>save</td>\n",
       "    </tr>\n",
       "    <tr>\n",
       "      <th>317373</th>\n",
       "      <td>fffadf8d083df3d5</td>\n",
       "      <td>2017-04-25 14:07:21</td>\n",
       "      <td>save</td>\n",
       "      <td>f9fe07</td>\n",
       "      <td>end</td>\n",
       "    </tr>\n",
       "  </tbody>\n",
       "</table>\n",
       "<p>1991484 rows × 5 columns</p>\n",
       "</div>"
      ],
      "text/plain": [
       "       case:concept:name       time:timestamp     concept:name  \\\n",
       "136988  0002505cb62792e4  2015-04-28 00:00:00      mail-income   \n",
       "136989  0002505cb62792e4  2015-05-04 00:00:00       mail-valid   \n",
       "136990  0002505cb62792e4  2015-05-04 00:00:00       mail-valid   \n",
       "136991  0002505cb62792e4  2015-05-04 00:00:00       mail-valid   \n",
       "136992  0002505cb62792e4  2015-06-12 11:50:18       initialize   \n",
       "...                  ...                  ...              ...   \n",
       "317369  fffadf8d083df3d5  2017-04-25 14:06:50    begin-editing   \n",
       "317370  fffadf8d083df3d5  2017-04-25 14:06:57        calculate   \n",
       "317371  fffadf8d083df3d5  2017-04-25 14:07:08  remove-document   \n",
       "317372  fffadf8d083df3d5  2017-04-25 14:07:14  insert-document   \n",
       "317373  fffadf8d083df3d5  2017-04-25 14:07:21             save   \n",
       "\n",
       "                         org:resource    next activity  \n",
       "136988                          0;n/a       mail-valid  \n",
       "136989                          0;n/a       mail-valid  \n",
       "136990                          0;n/a       mail-valid  \n",
       "136991                          0;n/a       initialize  \n",
       "136992  Document processing automaton    begin-editing  \n",
       "...                               ...              ...  \n",
       "317369                         f9fe07        calculate  \n",
       "317370                         f9fe07  remove-document  \n",
       "317371                         f9fe07  insert-document  \n",
       "317372                         f9fe07             save  \n",
       "317373                         f9fe07              end  \n",
       "\n",
       "[1991484 rows x 5 columns]"
      ]
     },
     "execution_count": 78,
     "metadata": {},
     "output_type": "execute_result"
    }
   ],
   "source": [
    "#Create next activity for each event\n",
    "df_clean = next_activity(df_clean)\n",
    "df_clean"
   ]
  },
  {
   "cell_type": "markdown",
   "metadata": {},
   "source": [
    "**Train/Test/Val split**\n",
    "See: \n",
    "\n",
    "Next-Activity Prediction for Non-stationary\n",
    "Processes with Unseen Data Variability\n",
    "\n",
    "and\n",
    "\n",
    "Outcome-Oriented Predictive Process Monitoring:\n",
    "Review and Benchmark"
   ]
  },
  {
   "cell_type": "code",
   "execution_count": 16,
   "metadata": {},
   "outputs": [
    {
     "name": "stdout",
     "output_type": "stream",
     "text": [
      "Train set shape: (1409180, 5)\n",
      "Validation set shape: (303658, 5)\n",
      "Test set shape: (302235, 5)\n"
     ]
    }
   ],
   "source": [
    "#train_df, val_df, test_df = split_data(df_clean)"
   ]
  },
  {
   "cell_type": "code",
   "execution_count": 17,
   "metadata": {},
   "outputs": [
    {
     "data": {
      "text/html": [
       "<div>\n",
       "<style scoped>\n",
       "    .dataframe tbody tr th:only-of-type {\n",
       "        vertical-align: middle;\n",
       "    }\n",
       "\n",
       "    .dataframe tbody tr th {\n",
       "        vertical-align: top;\n",
       "    }\n",
       "\n",
       "    .dataframe thead th {\n",
       "        text-align: right;\n",
       "    }\n",
       "</style>\n",
       "<table border=\"1\" class=\"dataframe\">\n",
       "  <thead>\n",
       "    <tr style=\"text-align: right;\">\n",
       "      <th></th>\n",
       "      <th>case:concept:name</th>\n",
       "      <th>time:timestamp</th>\n",
       "      <th>concept:name</th>\n",
       "      <th>org:resource</th>\n",
       "      <th>next activity</th>\n",
       "    </tr>\n",
       "  </thead>\n",
       "  <tbody>\n",
       "    <tr>\n",
       "      <th>128850</th>\n",
       "      <td>b30fbe81ce3c33c4</td>\n",
       "      <td>2015-04-28 00:00:00</td>\n",
       "      <td>mail-income</td>\n",
       "      <td>0;n/a</td>\n",
       "      <td>mail-valid</td>\n",
       "    </tr>\n",
       "    <tr>\n",
       "      <th>128851</th>\n",
       "      <td>b30fbe81ce3c33c4</td>\n",
       "      <td>2015-05-04 00:00:00</td>\n",
       "      <td>mail-valid</td>\n",
       "      <td>0;n/a</td>\n",
       "      <td>mail-valid</td>\n",
       "    </tr>\n",
       "    <tr>\n",
       "      <th>128852</th>\n",
       "      <td>b30fbe81ce3c33c4</td>\n",
       "      <td>2015-05-04 00:00:00</td>\n",
       "      <td>mail-valid</td>\n",
       "      <td>0;n/a</td>\n",
       "      <td>mail-valid</td>\n",
       "    </tr>\n",
       "    <tr>\n",
       "      <th>128853</th>\n",
       "      <td>b30fbe81ce3c33c4</td>\n",
       "      <td>2015-05-04 00:00:00</td>\n",
       "      <td>mail-valid</td>\n",
       "      <td>0;n/a</td>\n",
       "      <td>initialize</td>\n",
       "    </tr>\n",
       "    <tr>\n",
       "      <th>128854</th>\n",
       "      <td>b30fbe81ce3c33c4</td>\n",
       "      <td>2015-06-12 13:20:59</td>\n",
       "      <td>initialize</td>\n",
       "      <td>document processing automaton</td>\n",
       "      <td>begin-editing</td>\n",
       "    </tr>\n",
       "  </tbody>\n",
       "</table>\n",
       "</div>"
      ],
      "text/plain": [
       "       case:concept:name       time:timestamp concept:name  \\\n",
       "128850  b30fbe81ce3c33c4  2015-04-28 00:00:00  mail-income   \n",
       "128851  b30fbe81ce3c33c4  2015-05-04 00:00:00   mail-valid   \n",
       "128852  b30fbe81ce3c33c4  2015-05-04 00:00:00   mail-valid   \n",
       "128853  b30fbe81ce3c33c4  2015-05-04 00:00:00   mail-valid   \n",
       "128854  b30fbe81ce3c33c4  2015-06-12 13:20:59   initialize   \n",
       "\n",
       "                         org:resource  next activity  \n",
       "128850                          0;n/a     mail-valid  \n",
       "128851                          0;n/a     mail-valid  \n",
       "128852                          0;n/a     mail-valid  \n",
       "128853                          0;n/a     initialize  \n",
       "128854  document processing automaton  begin-editing  "
      ]
     },
     "execution_count": 17,
     "metadata": {},
     "output_type": "execute_result"
    }
   ],
   "source": [
    "#Convert df entries to string values and lowercase df\n",
    "\n",
    "train_df = normalize_and_lowercase(train_df)\n",
    "val_df = normalize_and_lowercase(val_df)\n",
    "test_df = normalize_and_lowercase(test_df)\n",
    "\n",
    "val_df.head()"
   ]
  },
  {
   "cell_type": "code",
   "execution_count": 79,
   "metadata": {},
   "outputs": [],
   "source": [
    "df_complete = normalize_and_lowercase(df_clean)"
   ]
  },
  {
   "cell_type": "markdown",
   "metadata": {},
   "source": [
    "**Generate prefix traces**"
   ]
  },
  {
   "cell_type": "code",
   "execution_count": 18,
   "metadata": {},
   "outputs": [],
   "source": [
    "train_df = create_multiindex(train_df)\n",
    "val_df = create_multiindex(val_df)\n",
    "test_df = create_multiindex(test_df)"
   ]
  },
  {
   "cell_type": "code",
   "execution_count": 80,
   "metadata": {},
   "outputs": [],
   "source": [
    "df_complete = create_multiindex(df_complete)"
   ]
  },
  {
   "cell_type": "code",
   "execution_count": 19,
   "metadata": {},
   "outputs": [],
   "source": [
    "train_df = generate_prefix_traces(train_df)\n",
    "val_df = generate_prefix_traces(val_df)\n",
    "test_df = generate_prefix_traces(test_df)\n"
   ]
  },
  {
   "cell_type": "code",
   "execution_count": 81,
   "metadata": {},
   "outputs": [],
   "source": [
    "df_complete = generate_prefix_traces(df_complete)"
   ]
  },
  {
   "cell_type": "markdown",
   "metadata": {},
   "source": [
    "**Create sequencalized prefix traces**"
   ]
  },
  {
   "cell_type": "code",
   "execution_count": 20,
   "metadata": {},
   "outputs": [],
   "source": [
    "#Create dataframe that contains sequentialized prefix traces and the corresponding next activity\n",
    "train_sequenzes = early_fusion(train_df)\n",
    "val_sequenzes = early_fusion(val_df)\n",
    "test_sequenzes = early_fusion(test_df)"
   ]
  },
  {
   "cell_type": "code",
   "execution_count": 82,
   "metadata": {},
   "outputs": [],
   "source": [
    "df_complete = early_fusion(df_complete)"
   ]
  },
  {
   "cell_type": "code",
   "execution_count": 21,
   "metadata": {},
   "outputs": [
    {
     "data": {
      "text/plain": [
       "(                                     concept:name\n",
       " caseID           time                            \n",
       " 0002505cb62792e4 2015-04-28 00:00:00  mail-income\n",
       "                  2015-05-04 00:00:00   mail-valid\n",
       "                  2015-05-04 00:00:00   mail-valid,\n",
       " 'mail-valid')"
      ]
     },
     "execution_count": 21,
     "metadata": {},
     "output_type": "execute_result"
    }
   ],
   "source": [
    "train_df[2]"
   ]
  },
  {
   "cell_type": "code",
   "execution_count": 22,
   "metadata": {},
   "outputs": [
    {
     "data": {
      "text/html": [
       "<div>\n",
       "<style scoped>\n",
       "    .dataframe tbody tr th:only-of-type {\n",
       "        vertical-align: middle;\n",
       "    }\n",
       "\n",
       "    .dataframe tbody tr th {\n",
       "        vertical-align: top;\n",
       "    }\n",
       "\n",
       "    .dataframe thead th {\n",
       "        text-align: right;\n",
       "    }\n",
       "</style>\n",
       "<table border=\"1\" class=\"dataframe\">\n",
       "  <thead>\n",
       "    <tr style=\"text-align: right;\">\n",
       "      <th></th>\n",
       "      <th>Prefix_Trace</th>\n",
       "      <th>Next_Activity</th>\n",
       "    </tr>\n",
       "  </thead>\n",
       "  <tbody>\n",
       "    <tr>\n",
       "      <th>0</th>\n",
       "      <td>mail-income</td>\n",
       "      <td>mail-valid</td>\n",
       "    </tr>\n",
       "    <tr>\n",
       "      <th>1</th>\n",
       "      <td>mail-income mail-valid</td>\n",
       "      <td>mail-valid</td>\n",
       "    </tr>\n",
       "    <tr>\n",
       "      <th>2</th>\n",
       "      <td>mail-income mail-valid mail-valid</td>\n",
       "      <td>mail-valid</td>\n",
       "    </tr>\n",
       "    <tr>\n",
       "      <th>3</th>\n",
       "      <td>mail-income mail-valid mail-valid mail-valid</td>\n",
       "      <td>initialize</td>\n",
       "    </tr>\n",
       "    <tr>\n",
       "      <th>4</th>\n",
       "      <td>mail-income mail-valid mail-valid mail-valid i...</td>\n",
       "      <td>begin-editing</td>\n",
       "    </tr>\n",
       "    <tr>\n",
       "      <th>...</th>\n",
       "      <td>...</td>\n",
       "      <td>...</td>\n",
       "    </tr>\n",
       "    <tr>\n",
       "      <th>303653</th>\n",
       "      <td>mail-income mail-valid initialize begin-editin...</td>\n",
       "      <td>abort-payment</td>\n",
       "    </tr>\n",
       "    <tr>\n",
       "      <th>303654</th>\n",
       "      <td>mail-income mail-valid initialize begin-editin...</td>\n",
       "      <td>begin-payment</td>\n",
       "    </tr>\n",
       "    <tr>\n",
       "      <th>303655</th>\n",
       "      <td>mail-income mail-valid initialize begin-editin...</td>\n",
       "      <td>insert-document</td>\n",
       "    </tr>\n",
       "    <tr>\n",
       "      <th>303656</th>\n",
       "      <td>mail-income mail-valid initialize begin-editin...</td>\n",
       "      <td>finish-payment</td>\n",
       "    </tr>\n",
       "    <tr>\n",
       "      <th>303657</th>\n",
       "      <td>mail-income mail-valid initialize begin-editin...</td>\n",
       "      <td>end</td>\n",
       "    </tr>\n",
       "  </tbody>\n",
       "</table>\n",
       "<p>303658 rows × 2 columns</p>\n",
       "</div>"
      ],
      "text/plain": [
       "                                             Prefix_Trace    Next_Activity\n",
       "0                                             mail-income       mail-valid\n",
       "1                                  mail-income mail-valid       mail-valid\n",
       "2                       mail-income mail-valid mail-valid       mail-valid\n",
       "3            mail-income mail-valid mail-valid mail-valid       initialize\n",
       "4       mail-income mail-valid mail-valid mail-valid i...    begin-editing\n",
       "...                                                   ...              ...\n",
       "303653  mail-income mail-valid initialize begin-editin...    abort-payment\n",
       "303654  mail-income mail-valid initialize begin-editin...    begin-payment\n",
       "303655  mail-income mail-valid initialize begin-editin...  insert-document\n",
       "303656  mail-income mail-valid initialize begin-editin...   finish-payment\n",
       "303657  mail-income mail-valid initialize begin-editin...              end\n",
       "\n",
       "[303658 rows x 2 columns]"
      ]
     },
     "execution_count": 22,
     "metadata": {},
     "output_type": "execute_result"
    }
   ],
   "source": [
    "val_sequenzes"
   ]
  },
  {
   "cell_type": "code",
   "execution_count": 83,
   "metadata": {},
   "outputs": [
    {
     "data": {
      "text/html": [
       "<div>\n",
       "<style scoped>\n",
       "    .dataframe tbody tr th:only-of-type {\n",
       "        vertical-align: middle;\n",
       "    }\n",
       "\n",
       "    .dataframe tbody tr th {\n",
       "        vertical-align: top;\n",
       "    }\n",
       "\n",
       "    .dataframe thead th {\n",
       "        text-align: right;\n",
       "    }\n",
       "</style>\n",
       "<table border=\"1\" class=\"dataframe\">\n",
       "  <thead>\n",
       "    <tr style=\"text-align: right;\">\n",
       "      <th></th>\n",
       "      <th>Prefix_Trace</th>\n",
       "      <th>Next_Activity</th>\n",
       "    </tr>\n",
       "  </thead>\n",
       "  <tbody>\n",
       "    <tr>\n",
       "      <th>0</th>\n",
       "      <td>mail-income</td>\n",
       "      <td>mail-valid</td>\n",
       "    </tr>\n",
       "    <tr>\n",
       "      <th>1</th>\n",
       "      <td>mail-income mail-valid</td>\n",
       "      <td>mail-valid</td>\n",
       "    </tr>\n",
       "    <tr>\n",
       "      <th>2</th>\n",
       "      <td>mail-income mail-valid mail-valid</td>\n",
       "      <td>mail-valid</td>\n",
       "    </tr>\n",
       "    <tr>\n",
       "      <th>3</th>\n",
       "      <td>mail-income mail-valid mail-valid mail-valid</td>\n",
       "      <td>initialize</td>\n",
       "    </tr>\n",
       "    <tr>\n",
       "      <th>4</th>\n",
       "      <td>mail-income mail-valid mail-valid mail-valid i...</td>\n",
       "      <td>begin-editing</td>\n",
       "    </tr>\n",
       "    <tr>\n",
       "      <th>...</th>\n",
       "      <td>...</td>\n",
       "      <td>...</td>\n",
       "    </tr>\n",
       "    <tr>\n",
       "      <th>1991479</th>\n",
       "      <td>mail-income mail-valid mail-valid mail-valid i...</td>\n",
       "      <td>calculate</td>\n",
       "    </tr>\n",
       "    <tr>\n",
       "      <th>1991480</th>\n",
       "      <td>mail-income mail-valid mail-valid mail-valid i...</td>\n",
       "      <td>remove-document</td>\n",
       "    </tr>\n",
       "    <tr>\n",
       "      <th>1991481</th>\n",
       "      <td>mail-income mail-valid mail-valid mail-valid i...</td>\n",
       "      <td>insert-document</td>\n",
       "    </tr>\n",
       "    <tr>\n",
       "      <th>1991482</th>\n",
       "      <td>mail-income mail-valid mail-valid mail-valid i...</td>\n",
       "      <td>save</td>\n",
       "    </tr>\n",
       "    <tr>\n",
       "      <th>1991483</th>\n",
       "      <td>mail-income mail-valid mail-valid mail-valid i...</td>\n",
       "      <td>end</td>\n",
       "    </tr>\n",
       "  </tbody>\n",
       "</table>\n",
       "<p>1991484 rows × 2 columns</p>\n",
       "</div>"
      ],
      "text/plain": [
       "                                              Prefix_Trace    Next_Activity\n",
       "0                                              mail-income       mail-valid\n",
       "1                                   mail-income mail-valid       mail-valid\n",
       "2                        mail-income mail-valid mail-valid       mail-valid\n",
       "3             mail-income mail-valid mail-valid mail-valid       initialize\n",
       "4        mail-income mail-valid mail-valid mail-valid i...    begin-editing\n",
       "...                                                    ...              ...\n",
       "1991479  mail-income mail-valid mail-valid mail-valid i...        calculate\n",
       "1991480  mail-income mail-valid mail-valid mail-valid i...  remove-document\n",
       "1991481  mail-income mail-valid mail-valid mail-valid i...  insert-document\n",
       "1991482  mail-income mail-valid mail-valid mail-valid i...             save\n",
       "1991483  mail-income mail-valid mail-valid mail-valid i...              end\n",
       "\n",
       "[1991484 rows x 2 columns]"
      ]
     },
     "execution_count": 83,
     "metadata": {},
     "output_type": "execute_result"
    }
   ],
   "source": [
    "df_complete"
   ]
  },
  {
   "cell_type": "code",
   "execution_count": 23,
   "metadata": {},
   "outputs": [
    {
     "name": "stdout",
     "output_type": "stream",
     "text": [
      "42\n",
      "41\n",
      "41\n",
      "File saved as 2024-06-02_Long_BPIC2018_train_next_activity.pkl\n",
      "File saved as 2024-06-02_Long_BPIC2018_val_next_activity.pkl\n",
      "File saved as 2024-06-02_Long_BPIC2018_test_next_activity.pkl\n"
     ]
    }
   ],
   "source": [
    "print(train_sequenzes['Next_Activity'].nunique())\n",
    "print(val_sequenzes['Next_Activity'].nunique())\n",
    "print(test_sequenzes['Next_Activity'].nunique())\n",
    "\n",
    "save_event_log(directory, path_interim, train_sequenzes, \"Long_BPIC2018_train\")\n",
    "save_event_log(directory, path_interim, val_sequenzes, \"Long_BPIC2018_val\")\n",
    "save_event_log(directory, path_interim, test_sequenzes, \"Long_BPIC2018_test\")"
   ]
  },
  {
   "cell_type": "code",
   "execution_count": 84,
   "metadata": {},
   "outputs": [
    {
     "name": "stdout",
     "output_type": "stream",
     "text": [
      "42\n",
      "File saved as 2024-06-07_Short_BPIC2018_complete_next_activity.pkl\n"
     ]
    }
   ],
   "source": [
    "print(df_complete['Next_Activity'].nunique())\n",
    "\n",
    "save_event_log(directory, path_interim, df_complete, \"Short_BPIC2018_complete\")"
   ]
  },
  {
   "cell_type": "code",
   "execution_count": null,
   "metadata": {},
   "outputs": [],
   "source": [
    "Long_Helpdesk_train = 10\n",
    "Long_Helpdesk_val = 8\n",
    "Long_Helpdesk_test = 8"
   ]
  },
  {
   "cell_type": "code",
   "execution_count": null,
   "metadata": {},
   "outputs": [],
   "source": [
    "Long_BPIC12_train = 24\n",
    "Long_BPIC12_val = 23\n",
    "Long_BPIC12_test = 23"
   ]
  },
  {
   "cell_type": "code",
   "execution_count": null,
   "metadata": {},
   "outputs": [],
   "source": [
    "Long_BPIC18_train = 42\n",
    "Long_BPIC18_val = 41\n",
    "Long_BPIC18_test = 41"
   ]
  }
 ],
 "metadata": {
  "kernelspec": {
   "display_name": "base",
   "language": "python",
   "name": "python3"
  },
  "language_info": {
   "codemirror_mode": {
    "name": "ipython",
    "version": 3
   },
   "file_extension": ".py",
   "mimetype": "text/x-python",
   "name": "python",
   "nbconvert_exporter": "python",
   "pygments_lexer": "ipython3",
   "version": "3.10.2"
  }
 },
 "nbformat": 4,
 "nbformat_minor": 2
}
